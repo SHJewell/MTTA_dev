{
 "cells": [
  {
   "cell_type": "code",
   "execution_count": 1,
   "id": "98305347-77dd-4427-acdd-aeabf5f0a4c1",
   "metadata": {
    "tags": []
   },
   "outputs": [],
   "source": [
    "# Useful for defining quantities\n",
    "from astropy import units as u\n",
    "\n",
    "# Earth focused modules, ISS example orbit and time span generator\n",
    "from poliastro.earth import EarthSatellite\n",
    "from poliastro.earth.plotting import GroundtrackPlotter\n",
    "from poliastro.examples import iss\n",
    "from poliastro.util import time_range"
   ]
  },
  {
   "cell_type": "code",
   "execution_count": 15,
   "id": "b0b8de9a-83dc-4ad3-92c4-c10ed6f6692e",
   "metadata": {
    "tags": []
   },
   "outputs": [],
   "source": [
    "# Build spacecraft instance\n",
    "iss_spacecraft = EarthSatellite(iss, None)\n",
    "t_span = time_range(\n",
    "    iss.epoch - 1.5 * u.h, periods=150, end=iss.epoch + 4.5 * u.h\n",
    ")"
   ]
  },
  {
   "cell_type": "code",
   "execution_count": 16,
   "id": "b7f45ea0-df1a-45d7-8085-2e754bb516b2",
   "metadata": {
    "tags": []
   },
   "outputs": [
    {
     "data": {
      "application/vnd.plotly.v1+json": {
       "config": {
        "plotlyServerURL": "https://plot.ly"
       },
       "data": [
        {
         "type": "scattergeo"
        },
        {
         "lat": [
          51.23769652459603,
          49.11162238020584,
          45.39195122098425,
          40.44977332464468,
          34.62936379479812,
          28.20057001584498,
          21.361013650263935,
          14.254324501579191,
          6.988536916554241,
          -0.3492519075772613,
          -7.681451624307094,
          -14.930199346485512,
          -22.007529386774184,
          -28.803799824092078,
          -35.17285612707958,
          -40.913639389405674,
          -45.7527524255723,
          -49.34497719963836,
          -51.32585871257996,
          -51.43760975284846,
          -49.66252097965288,
          -46.23320813610111,
          -41.5081344724904,
          -35.83889315593633,
          -29.50862466167508,
          -22.727062465834855,
          -15.646937591314986,
          -8.382609193911408,
          -1.0253557392129082,
          6.344706091571084,
          13.648611695942787,
          20.798747108579104,
          27.687539905809953,
          34.1730369486321,
          40.060735347982565,
          45.08514109438952,
          48.905942842900835,
          51.15166517526704,
          51.53856846420879,
          50.01314513586046,
          46.78416195947539,
          42.207606882514796,
          36.64558645181078,
          30.3940837547905,
          23.673028499910643,
          16.64183097792442,
          9.41854961857046,
          2.0958503263863393,
          -5.246644792706426,
          -12.532217471670858,
          -19.677428534466113,
          -26.5813101139359,
          -33.11174820891944,
          -39.08812670097687,
          -44.26250128495945,
          -48.31111290225401,
          -50.86535104962793,
          -51.614813054010455,
          -50.45248936892953,
          -47.53686959983686,
          -43.20163385187763,
          -37.81132376475653,
          -31.67438970246799,
          -25.023652766886265,
          -18.028652245949335,
          -10.814626597319307,
          -3.4790705133234696,
          3.8953555634652215,
          11.230366827511888,
          18.44237367145486,
          25.431864225583748,
          32.07017007572211,
          38.18246561383235,
          43.52852631689645,
          47.791282880812204,
          50.60021948296712,
          51.62531125424741,
          50.72478348985769,
          48.02718122708808,
          43.85691716794572,
          38.58610015434225,
          32.53609498633335,
          25.95103121753909,
          19.008268272223113,
          11.837654959098368,
          4.538780715291519,
          -2.805591668258618,
          -10.118836533169203,
          -17.320858073369063,
          -24.317864206282103,
          -30.98984725015765,
          -37.17446341710805,
          -42.648037451220006,
          -47.11135022444663,
          -50.20320888227559,
          -51.577912886715175,
          -51.046798026888,
          -48.68315051977269,
          -44.77883065292137,
          -39.701724551431084,
          -33.78378095238806,
          -27.282480794583936,
          -20.38633715620377,
          -13.233306108919724,
          -5.928516776680851,
          1.4416823772211917,
          8.798628306237019,
          16.06159402040896,
          23.13767383474543,
          29.909594631460383,
          36.22000620070303,
          41.852464478195266,
          46.51537176333723,
          49.84960657649102,
          51.49637261093789,
          51.23571668308211,
          49.10680227286347,
          45.38485430962675,
          40.44099959221888,
          34.61941244041248,
          28.189813924632126,
          21.349722610525752,
          14.242696902428374,
          6.976726591733158,
          -0.3611150074668487,
          -7.693244782485308,
          -14.941791719067732,
          -22.01876518606506,
          -28.81447734758943,
          -35.18270065709106,
          -40.92227187476064,
          -45.759668745385966,
          -49.349580220736215,
          -51.32760416729565,
          -51.43624925960304,
          -49.65824761203359,
          -46.22654029799257,
          -41.499671812605285,
          -35.829154419042744,
          -29.498004352001114,
          -22.71584772269257,
          -15.635339215075515,
          -8.370789414797784,
          -1.013449847898469,
          6.356572512199524,
          13.66030725503771,
          20.81011804107004,
          27.698389693257674,
          34.1830998817892,
          40.06964496512554
         ],
         "line": {
          "color": "red"
         },
         "lon": [
          324.493120015839,
          338.21578604143565,
          350.3516168929755,
          0.6777667148507877,
          9.382307370454875,
          16.803244485381523,
          23.281365562255598,
          29.11157168245673,
          34.54083510414508,
          39.78190057516783,
          45.03055304186633,
          50.48313054705187,
          56.3539923986417,
          62.89253516543483,
          70.39599065662824,
          79.20482447152764,
          89.6483936566241,
          101.88957909275337,
          115.66289918115268,
          130.10486854188352,
          144.01962670950365,
          156.4776403355367,
          167.14326070620626,
          176.14216582083608,
          183.7944460565249,
          190.44402769662815,
          196.39483236612026,
          201.90234900770196,
          207.18536637537264,
          212.44289819259427,
          217.87178980573944,
          223.6843701493532,
          230.1258939186582,
          237.48875648385336,
          246.11208768131115,
          256.33725311677085,
          268.3680458926435,
          282.0142546520765,
          296.4836197483493,
          310.5795113854154,
          323.2966186565158,
          334.21830976676046,
          343.42812002637197,
          351.2368411941615,
          357.9934183641491,
          4.009676237982485,
          9.547411698391763,
          14.828899177365214,
          20.053616732010976,
          25.415780648294593,
          31.12181375641666,
          37.407678367263735,
          44.55390427623733,
          52.889208036357445,
          62.757824731121865,
          74.40323508719015,
          87.733156319157,
          102.08035102130252,
          116.29870003105358,
          129.3087683579512,
          140.57391006545868,
          150.0967729019736,
          158.15808013612988,
          165.10513835533717,
          171.25788314414729,
          176.88715490522756,
          182.22217720619247,
          187.46659212090185,
          192.81601174372116,
          198.475646049865,
          204.67793416084936,
          211.6985236577908,
          219.86287837983699,
          229.52126041718762,
          240.9467233130129,
          254.11228577775057,
          268.4308908655728,
          282.7850572513642,
          296.03852105910465,
          307.5675431956459,
          317.31858578485367,
          325.55428526243423,
          332.62391685966895,
          338.8551165823134,
          344.5257975679648,
          349.8696534164793,
          355.09180100075656,
          0.38626744360302523,
          5.953471947506626,
          12.017672066823245,
          18.843288257476914,
          26.744078605853588,
          36.06672345942231,
          47.1085486333931,
          59.92065807015023,
          74.04091161483083,
          88.43883290436307,
          101.9419604359279,
          113.80943421872497,
          123.88911254164167,
          132.39861506982922,
          139.6787135604817,
          146.0633115984862,
          151.83958582265487,
          157.24901996011462,
          162.50183613573918,
          167.79436344708304,
          173.32665495663133,
          179.32015833938883,
          186.0346745676079,
          193.77961346641806,
          202.90332932514644,
          213.72301609717587,
          226.34304942290083,
          240.38228081179858,
          254.8638123497217,
          268.5844202676003,
          280.7173595471472,
          291.0406697046666,
          299.7428526968255,
          307.16200316759245,
          313.63885490280603,
          319.46822614035153,
          324.89702093480827,
          330.13794249808274,
          335.38676259611555,
          340.8398342877447,
          346.7115600935079,
          353.25140573854054,
          0.7566844268005422,
          9.567907746194974,
          20.01432375656535,
          32.25835104532317,
          46.03360531426549,
          60.475704110428985,
          74.38871993773013,
          86.84395427806237,
          97.50669838143375,
          106.5031491158375,
          114.15353863464256,
          120.801758782607,
          126.75165120998024,
          132.2586336791473,
          137.5414489777536,
          142.79909315485207,
          148.22842231162392,
          154.04180473540453,
          160.48456164451846,
          167.84917115027147,
          176.4748211616115
         ],
         "mode": "lines",
         "name": "ISS",
         "type": "scattergeo"
        },
        {
         "lat": [
          51.42953428309302
         ],
         "lon": [
          285.59816127653147
         ],
         "marker": {
          "color": "red",
          "line": {
           "color": "black",
           "width": 1
          },
          "size": 10,
          "symbol": "triangle-right"
         },
         "name": "ISS",
         "showlegend": false,
         "type": "scattergeo"
        }
       ],
       "layout": {
        "autosize": true,
        "geo": {
         "coastlinecolor": "Black",
         "landcolor": "#9fc164",
         "lataxis": {
          "gridcolor": "black",
          "showgrid": true
         },
         "lonaxis": {
          "gridcolor": "black",
          "showgrid": true
         },
         "oceancolor": "#b2d9ff",
         "showcoastlines": true,
         "showlakes": false,
         "showland": true,
         "showocean": true,
         "showrivers": false
        },
        "template": {
         "data": {
          "bar": [
           {
            "error_x": {
             "color": "#2a3f5f"
            },
            "error_y": {
             "color": "#2a3f5f"
            },
            "marker": {
             "line": {
              "color": "#E5ECF6",
              "width": 0.5
             },
             "pattern": {
              "fillmode": "overlay",
              "size": 10,
              "solidity": 0.2
             }
            },
            "type": "bar"
           }
          ],
          "barpolar": [
           {
            "marker": {
             "line": {
              "color": "#E5ECF6",
              "width": 0.5
             },
             "pattern": {
              "fillmode": "overlay",
              "size": 10,
              "solidity": 0.2
             }
            },
            "type": "barpolar"
           }
          ],
          "carpet": [
           {
            "aaxis": {
             "endlinecolor": "#2a3f5f",
             "gridcolor": "white",
             "linecolor": "white",
             "minorgridcolor": "white",
             "startlinecolor": "#2a3f5f"
            },
            "baxis": {
             "endlinecolor": "#2a3f5f",
             "gridcolor": "white",
             "linecolor": "white",
             "minorgridcolor": "white",
             "startlinecolor": "#2a3f5f"
            },
            "type": "carpet"
           }
          ],
          "choropleth": [
           {
            "colorbar": {
             "outlinewidth": 0,
             "ticks": ""
            },
            "type": "choropleth"
           }
          ],
          "contour": [
           {
            "colorbar": {
             "outlinewidth": 0,
             "ticks": ""
            },
            "colorscale": [
             [
              0,
              "#0d0887"
             ],
             [
              0.1111111111111111,
              "#46039f"
             ],
             [
              0.2222222222222222,
              "#7201a8"
             ],
             [
              0.3333333333333333,
              "#9c179e"
             ],
             [
              0.4444444444444444,
              "#bd3786"
             ],
             [
              0.5555555555555556,
              "#d8576b"
             ],
             [
              0.6666666666666666,
              "#ed7953"
             ],
             [
              0.7777777777777778,
              "#fb9f3a"
             ],
             [
              0.8888888888888888,
              "#fdca26"
             ],
             [
              1,
              "#f0f921"
             ]
            ],
            "type": "contour"
           }
          ],
          "contourcarpet": [
           {
            "colorbar": {
             "outlinewidth": 0,
             "ticks": ""
            },
            "type": "contourcarpet"
           }
          ],
          "heatmap": [
           {
            "colorbar": {
             "outlinewidth": 0,
             "ticks": ""
            },
            "colorscale": [
             [
              0,
              "#0d0887"
             ],
             [
              0.1111111111111111,
              "#46039f"
             ],
             [
              0.2222222222222222,
              "#7201a8"
             ],
             [
              0.3333333333333333,
              "#9c179e"
             ],
             [
              0.4444444444444444,
              "#bd3786"
             ],
             [
              0.5555555555555556,
              "#d8576b"
             ],
             [
              0.6666666666666666,
              "#ed7953"
             ],
             [
              0.7777777777777778,
              "#fb9f3a"
             ],
             [
              0.8888888888888888,
              "#fdca26"
             ],
             [
              1,
              "#f0f921"
             ]
            ],
            "type": "heatmap"
           }
          ],
          "heatmapgl": [
           {
            "colorbar": {
             "outlinewidth": 0,
             "ticks": ""
            },
            "colorscale": [
             [
              0,
              "#0d0887"
             ],
             [
              0.1111111111111111,
              "#46039f"
             ],
             [
              0.2222222222222222,
              "#7201a8"
             ],
             [
              0.3333333333333333,
              "#9c179e"
             ],
             [
              0.4444444444444444,
              "#bd3786"
             ],
             [
              0.5555555555555556,
              "#d8576b"
             ],
             [
              0.6666666666666666,
              "#ed7953"
             ],
             [
              0.7777777777777778,
              "#fb9f3a"
             ],
             [
              0.8888888888888888,
              "#fdca26"
             ],
             [
              1,
              "#f0f921"
             ]
            ],
            "type": "heatmapgl"
           }
          ],
          "histogram": [
           {
            "marker": {
             "pattern": {
              "fillmode": "overlay",
              "size": 10,
              "solidity": 0.2
             }
            },
            "type": "histogram"
           }
          ],
          "histogram2d": [
           {
            "colorbar": {
             "outlinewidth": 0,
             "ticks": ""
            },
            "colorscale": [
             [
              0,
              "#0d0887"
             ],
             [
              0.1111111111111111,
              "#46039f"
             ],
             [
              0.2222222222222222,
              "#7201a8"
             ],
             [
              0.3333333333333333,
              "#9c179e"
             ],
             [
              0.4444444444444444,
              "#bd3786"
             ],
             [
              0.5555555555555556,
              "#d8576b"
             ],
             [
              0.6666666666666666,
              "#ed7953"
             ],
             [
              0.7777777777777778,
              "#fb9f3a"
             ],
             [
              0.8888888888888888,
              "#fdca26"
             ],
             [
              1,
              "#f0f921"
             ]
            ],
            "type": "histogram2d"
           }
          ],
          "histogram2dcontour": [
           {
            "colorbar": {
             "outlinewidth": 0,
             "ticks": ""
            },
            "colorscale": [
             [
              0,
              "#0d0887"
             ],
             [
              0.1111111111111111,
              "#46039f"
             ],
             [
              0.2222222222222222,
              "#7201a8"
             ],
             [
              0.3333333333333333,
              "#9c179e"
             ],
             [
              0.4444444444444444,
              "#bd3786"
             ],
             [
              0.5555555555555556,
              "#d8576b"
             ],
             [
              0.6666666666666666,
              "#ed7953"
             ],
             [
              0.7777777777777778,
              "#fb9f3a"
             ],
             [
              0.8888888888888888,
              "#fdca26"
             ],
             [
              1,
              "#f0f921"
             ]
            ],
            "type": "histogram2dcontour"
           }
          ],
          "mesh3d": [
           {
            "colorbar": {
             "outlinewidth": 0,
             "ticks": ""
            },
            "type": "mesh3d"
           }
          ],
          "parcoords": [
           {
            "line": {
             "colorbar": {
              "outlinewidth": 0,
              "ticks": ""
             }
            },
            "type": "parcoords"
           }
          ],
          "pie": [
           {
            "automargin": true,
            "type": "pie"
           }
          ],
          "scatter": [
           {
            "fillpattern": {
             "fillmode": "overlay",
             "size": 10,
             "solidity": 0.2
            },
            "type": "scatter"
           }
          ],
          "scatter3d": [
           {
            "line": {
             "colorbar": {
              "outlinewidth": 0,
              "ticks": ""
             }
            },
            "marker": {
             "colorbar": {
              "outlinewidth": 0,
              "ticks": ""
             }
            },
            "type": "scatter3d"
           }
          ],
          "scattercarpet": [
           {
            "marker": {
             "colorbar": {
              "outlinewidth": 0,
              "ticks": ""
             }
            },
            "type": "scattercarpet"
           }
          ],
          "scattergeo": [
           {
            "marker": {
             "colorbar": {
              "outlinewidth": 0,
              "ticks": ""
             }
            },
            "type": "scattergeo"
           }
          ],
          "scattergl": [
           {
            "marker": {
             "colorbar": {
              "outlinewidth": 0,
              "ticks": ""
             }
            },
            "type": "scattergl"
           }
          ],
          "scattermapbox": [
           {
            "marker": {
             "colorbar": {
              "outlinewidth": 0,
              "ticks": ""
             }
            },
            "type": "scattermapbox"
           }
          ],
          "scatterpolar": [
           {
            "marker": {
             "colorbar": {
              "outlinewidth": 0,
              "ticks": ""
             }
            },
            "type": "scatterpolar"
           }
          ],
          "scatterpolargl": [
           {
            "marker": {
             "colorbar": {
              "outlinewidth": 0,
              "ticks": ""
             }
            },
            "type": "scatterpolargl"
           }
          ],
          "scatterternary": [
           {
            "marker": {
             "colorbar": {
              "outlinewidth": 0,
              "ticks": ""
             }
            },
            "type": "scatterternary"
           }
          ],
          "surface": [
           {
            "colorbar": {
             "outlinewidth": 0,
             "ticks": ""
            },
            "colorscale": [
             [
              0,
              "#0d0887"
             ],
             [
              0.1111111111111111,
              "#46039f"
             ],
             [
              0.2222222222222222,
              "#7201a8"
             ],
             [
              0.3333333333333333,
              "#9c179e"
             ],
             [
              0.4444444444444444,
              "#bd3786"
             ],
             [
              0.5555555555555556,
              "#d8576b"
             ],
             [
              0.6666666666666666,
              "#ed7953"
             ],
             [
              0.7777777777777778,
              "#fb9f3a"
             ],
             [
              0.8888888888888888,
              "#fdca26"
             ],
             [
              1,
              "#f0f921"
             ]
            ],
            "type": "surface"
           }
          ],
          "table": [
           {
            "cells": {
             "fill": {
              "color": "#EBF0F8"
             },
             "line": {
              "color": "white"
             }
            },
            "header": {
             "fill": {
              "color": "#C8D4E3"
             },
             "line": {
              "color": "white"
             }
            },
            "type": "table"
           }
          ]
         },
         "layout": {
          "annotationdefaults": {
           "arrowcolor": "#2a3f5f",
           "arrowhead": 0,
           "arrowwidth": 1
          },
          "autotypenumbers": "strict",
          "coloraxis": {
           "colorbar": {
            "outlinewidth": 0,
            "ticks": ""
           }
          },
          "colorscale": {
           "diverging": [
            [
             0,
             "#8e0152"
            ],
            [
             0.1,
             "#c51b7d"
            ],
            [
             0.2,
             "#de77ae"
            ],
            [
             0.3,
             "#f1b6da"
            ],
            [
             0.4,
             "#fde0ef"
            ],
            [
             0.5,
             "#f7f7f7"
            ],
            [
             0.6,
             "#e6f5d0"
            ],
            [
             0.7,
             "#b8e186"
            ],
            [
             0.8,
             "#7fbc41"
            ],
            [
             0.9,
             "#4d9221"
            ],
            [
             1,
             "#276419"
            ]
           ],
           "sequential": [
            [
             0,
             "#0d0887"
            ],
            [
             0.1111111111111111,
             "#46039f"
            ],
            [
             0.2222222222222222,
             "#7201a8"
            ],
            [
             0.3333333333333333,
             "#9c179e"
            ],
            [
             0.4444444444444444,
             "#bd3786"
            ],
            [
             0.5555555555555556,
             "#d8576b"
            ],
            [
             0.6666666666666666,
             "#ed7953"
            ],
            [
             0.7777777777777778,
             "#fb9f3a"
            ],
            [
             0.8888888888888888,
             "#fdca26"
            ],
            [
             1,
             "#f0f921"
            ]
           ],
           "sequentialminus": [
            [
             0,
             "#0d0887"
            ],
            [
             0.1111111111111111,
             "#46039f"
            ],
            [
             0.2222222222222222,
             "#7201a8"
            ],
            [
             0.3333333333333333,
             "#9c179e"
            ],
            [
             0.4444444444444444,
             "#bd3786"
            ],
            [
             0.5555555555555556,
             "#d8576b"
            ],
            [
             0.6666666666666666,
             "#ed7953"
            ],
            [
             0.7777777777777778,
             "#fb9f3a"
            ],
            [
             0.8888888888888888,
             "#fdca26"
            ],
            [
             1,
             "#f0f921"
            ]
           ]
          },
          "colorway": [
           "#636efa",
           "#EF553B",
           "#00cc96",
           "#ab63fa",
           "#FFA15A",
           "#19d3f3",
           "#FF6692",
           "#B6E880",
           "#FF97FF",
           "#FECB52"
          ],
          "font": {
           "color": "#2a3f5f"
          },
          "geo": {
           "bgcolor": "white",
           "lakecolor": "white",
           "landcolor": "#E5ECF6",
           "showlakes": true,
           "showland": true,
           "subunitcolor": "white"
          },
          "hoverlabel": {
           "align": "left"
          },
          "hovermode": "closest",
          "mapbox": {
           "style": "light"
          },
          "paper_bgcolor": "white",
          "plot_bgcolor": "#E5ECF6",
          "polar": {
           "angularaxis": {
            "gridcolor": "white",
            "linecolor": "white",
            "ticks": ""
           },
           "bgcolor": "#E5ECF6",
           "radialaxis": {
            "gridcolor": "white",
            "linecolor": "white",
            "ticks": ""
           }
          },
          "scene": {
           "xaxis": {
            "backgroundcolor": "#E5ECF6",
            "gridcolor": "white",
            "gridwidth": 2,
            "linecolor": "white",
            "showbackground": true,
            "ticks": "",
            "zerolinecolor": "white"
           },
           "yaxis": {
            "backgroundcolor": "#E5ECF6",
            "gridcolor": "white",
            "gridwidth": 2,
            "linecolor": "white",
            "showbackground": true,
            "ticks": "",
            "zerolinecolor": "white"
           },
           "zaxis": {
            "backgroundcolor": "#E5ECF6",
            "gridcolor": "white",
            "gridwidth": 2,
            "linecolor": "white",
            "showbackground": true,
            "ticks": "",
            "zerolinecolor": "white"
           }
          },
          "shapedefaults": {
           "line": {
            "color": "#2a3f5f"
           }
          },
          "ternary": {
           "aaxis": {
            "gridcolor": "white",
            "linecolor": "white",
            "ticks": ""
           },
           "baxis": {
            "gridcolor": "white",
            "linecolor": "white",
            "ticks": ""
           },
           "bgcolor": "#E5ECF6",
           "caxis": {
            "gridcolor": "white",
            "linecolor": "white",
            "ticks": ""
           }
          },
          "title": {
           "x": 0.05
          },
          "xaxis": {
           "automargin": true,
           "gridcolor": "white",
           "linecolor": "white",
           "ticks": "",
           "title": {
            "standoff": 15
           },
           "zerolinecolor": "white",
           "zerolinewidth": 2
          },
          "yaxis": {
           "automargin": true,
           "gridcolor": "white",
           "linecolor": "white",
           "ticks": "",
           "title": {
            "standoff": 15
           },
           "zerolinecolor": "white",
           "zerolinewidth": 2
          }
         }
        },
        "title": {
         "text": "International Space Station groundtrack"
        }
       }
      },
      "image/png": "[encoded data removed]",
      "text/html": [
       "<div>                            <div id=\"cccb0cb4-f154-46e9-a6a1-a50792a26432\" class=\"plotly-graph-div\" style=\"height:525px; width:100%;\"></div>            <script type=\"text/javascript\">                require([\"plotly\"], function(Plotly) {                    window.PLOTLYENV=window.PLOTLYENV || {};                                    if (document.getElementById(\"cccb0cb4-f154-46e9-a6a1-a50792a26432\")) {                    Plotly.newPlot(                        \"cccb0cb4-f154-46e9-a6a1-a50792a26432\",                        [{\"type\":\"scattergeo\"},{\"lat\":[51.23769652459603,49.11162238020584,45.39195122098425,40.44977332464468,34.62936379479812,28.20057001584498,21.361013650263935,14.254324501579191,6.988536916554241,-0.3492519075772613,-7.681451624307094,-14.930199346485512,-22.007529386774184,-28.803799824092078,-35.17285612707958,-40.913639389405674,-45.7527524255723,-49.34497719963836,-51.32585871257996,-51.43760975284846,-49.66252097965288,-46.23320813610111,-41.5081344724904,-35.83889315593633,-29.50862466167508,-22.727062465834855,-15.646937591314986,-8.382609193911408,-1.0253557392129082,6.344706091571084,13.648611695942787,20.798747108579104,27.687539905809953,34.1730369486321,40.060735347982565,45.08514109438952,48.905942842900835,51.15166517526704,51.53856846420879,50.01314513586046,46.78416195947539,42.207606882514796,36.64558645181078,30.3940837547905,23.673028499910643,16.64183097792442,9.41854961857046,2.0958503263863393,-5.246644792706426,-12.532217471670858,-19.677428534466113,-26.5813101139359,-33.11174820891944,-39.08812670097687,-44.26250128495945,-48.31111290225401,-50.86535104962793,-51.614813054010455,-50.45248936892953,-47.53686959983686,-43.20163385187763,-37.81132376475653,-31.67438970246799,-25.023652766886265,-18.028652245949335,-10.814626597319307,-3.4790705133234696,3.8953555634652215,11.230366827511888,18.44237367145486,25.431864225583748,32.07017007572211,38.18246561383235,43.52852631689645,47.791282880812204,50.60021948296712,51.62531125424741,50.72478348985769,48.02718122708808,43.85691716794572,38.58610015434225,32.53609498633335,25.95103121753909,19.008268272223113,11.837654959098368,4.538780715291519,-2.805591668258618,-10.118836533169203,-17.320858073369063,-24.317864206282103,-30.98984725015765,-37.17446341710805,-42.648037451220006,-47.11135022444663,-50.20320888227559,-51.577912886715175,-51.046798026888,-48.68315051977269,-44.77883065292137,-39.701724551431084,-33.78378095238806,-27.282480794583936,-20.38633715620377,-13.233306108919724,-5.928516776680851,1.4416823772211917,8.798628306237019,16.06159402040896,23.13767383474543,29.909594631460383,36.22000620070303,41.852464478195266,46.51537176333723,49.84960657649102,51.49637261093789,51.23571668308211,49.10680227286347,45.38485430962675,40.44099959221888,34.61941244041248,28.189813924632126,21.349722610525752,14.242696902428374,6.976726591733158,-0.3611150074668487,-7.693244782485308,-14.941791719067732,-22.01876518606506,-28.81447734758943,-35.18270065709106,-40.92227187476064,-45.759668745385966,-49.349580220736215,-51.32760416729565,-51.43624925960304,-49.65824761203359,-46.22654029799257,-41.499671812605285,-35.829154419042744,-29.498004352001114,-22.71584772269257,-15.635339215075515,-8.370789414797784,-1.013449847898469,6.356572512199524,13.66030725503771,20.81011804107004,27.698389693257674,34.1830998817892,40.06964496512554],\"line\":{\"color\":\"red\"},\"lon\":[324.493120015839,338.21578604143565,350.3516168929755,0.6777667148507877,9.382307370454875,16.803244485381523,23.281365562255598,29.11157168245673,34.54083510414508,39.78190057516783,45.03055304186633,50.48313054705187,56.3539923986417,62.89253516543483,70.39599065662824,79.20482447152764,89.6483936566241,101.88957909275337,115.66289918115268,130.10486854188352,144.01962670950365,156.4776403355367,167.14326070620626,176.14216582083608,183.7944460565249,190.44402769662815,196.39483236612026,201.90234900770196,207.18536637537264,212.44289819259427,217.87178980573944,223.6843701493532,230.1258939186582,237.48875648385336,246.11208768131115,256.33725311677085,268.3680458926435,282.0142546520765,296.4836197483493,310.5795113854154,323.2966186565158,334.21830976676046,343.42812002637197,351.2368411941615,357.9934183641491,4.009676237982485,9.547411698391763,14.828899177365214,20.053616732010976,25.415780648294593,31.12181375641666,37.407678367263735,44.55390427623733,52.889208036357445,62.757824731121865,74.40323508719015,87.733156319157,102.08035102130252,116.29870003105358,129.3087683579512,140.57391006545868,150.0967729019736,158.15808013612988,165.10513835533717,171.25788314414729,176.88715490522756,182.22217720619247,187.46659212090185,192.81601174372116,198.475646049865,204.67793416084936,211.6985236577908,219.86287837983699,229.52126041718762,240.9467233130129,254.11228577775057,268.4308908655728,282.7850572513642,296.03852105910465,307.5675431956459,317.31858578485367,325.55428526243423,332.62391685966895,338.8551165823134,344.5257975679648,349.8696534164793,355.09180100075656,0.38626744360302523,5.953471947506626,12.017672066823245,18.843288257476914,26.744078605853588,36.06672345942231,47.1085486333931,59.92065807015023,74.04091161483083,88.43883290436307,101.9419604359279,113.80943421872497,123.88911254164167,132.39861506982922,139.6787135604817,146.0633115984862,151.83958582265487,157.24901996011462,162.50183613573918,167.79436344708304,173.32665495663133,179.32015833938883,186.0346745676079,193.77961346641806,202.90332932514644,213.72301609717587,226.34304942290083,240.38228081179858,254.8638123497217,268.5844202676003,280.7173595471472,291.0406697046666,299.7428526968255,307.16200316759245,313.63885490280603,319.46822614035153,324.89702093480827,330.13794249808274,335.38676259611555,340.8398342877447,346.7115600935079,353.25140573854054,0.7566844268005422,9.567907746194974,20.01432375656535,32.25835104532317,46.03360531426549,60.475704110428985,74.38871993773013,86.84395427806237,97.50669838143375,106.5031491158375,114.15353863464256,120.801758782607,126.75165120998024,132.2586336791473,137.5414489777536,142.79909315485207,148.22842231162392,154.04180473540453,160.48456164451846,167.84917115027147,176.4748211616115],\"mode\":\"lines\",\"name\":\"ISS\",\"type\":\"scattergeo\"},{\"lat\":[51.42953428309302],\"lon\":[285.59816127653147],\"marker\":{\"color\":\"red\",\"line\":{\"color\":\"black\",\"width\":1},\"size\":10,\"symbol\":\"triangle-right\"},\"name\":\"ISS\",\"showlegend\":false,\"type\":\"scattergeo\"}],                        {\"template\":{\"data\":{\"histogram2dcontour\":[{\"type\":\"histogram2dcontour\",\"colorbar\":{\"outlinewidth\":0,\"ticks\":\"\"},\"colorscale\":[[0.0,\"#0d0887\"],[0.1111111111111111,\"#46039f\"],[0.2222222222222222,\"#7201a8\"],[0.3333333333333333,\"#9c179e\"],[0.4444444444444444,\"#bd3786\"],[0.5555555555555556,\"#d8576b\"],[0.6666666666666666,\"#ed7953\"],[0.7777777777777778,\"#fb9f3a\"],[0.8888888888888888,\"#fdca26\"],[1.0,\"#f0f921\"]]}],\"choropleth\":[{\"type\":\"choropleth\",\"colorbar\":{\"outlinewidth\":0,\"ticks\":\"\"}}],\"histogram2d\":[{\"type\":\"histogram2d\",\"colorbar\":{\"outlinewidth\":0,\"ticks\":\"\"},\"colorscale\":[[0.0,\"#0d0887\"],[0.1111111111111111,\"#46039f\"],[0.2222222222222222,\"#7201a8\"],[0.3333333333333333,\"#9c179e\"],[0.4444444444444444,\"#bd3786\"],[0.5555555555555556,\"#d8576b\"],[0.6666666666666666,\"#ed7953\"],[0.7777777777777778,\"#fb9f3a\"],[0.8888888888888888,\"#fdca26\"],[1.0,\"#f0f921\"]]}],\"heatmap\":[{\"type\":\"heatmap\",\"colorbar\":{\"outlinewidth\":0,\"ticks\":\"\"},\"colorscale\":[[0.0,\"#0d0887\"],[0.1111111111111111,\"#46039f\"],[0.2222222222222222,\"#7201a8\"],[0.3333333333333333,\"#9c179e\"],[0.4444444444444444,\"#bd3786\"],[0.5555555555555556,\"#d8576b\"],[0.6666666666666666,\"#ed7953\"],[0.7777777777777778,\"#fb9f3a\"],[0.8888888888888888,\"#fdca26\"],[1.0,\"#f0f921\"]]}],\"heatmapgl\":[{\"type\":\"heatmapgl\",\"colorbar\":{\"outlinewidth\":0,\"ticks\":\"\"},\"colorscale\":[[0.0,\"#0d0887\"],[0.1111111111111111,\"#46039f\"],[0.2222222222222222,\"#7201a8\"],[0.3333333333333333,\"#9c179e\"],[0.4444444444444444,\"#bd3786\"],[0.5555555555555556,\"#d8576b\"],[0.6666666666666666,\"#ed7953\"],[0.7777777777777778,\"#fb9f3a\"],[0.8888888888888888,\"#fdca26\"],[1.0,\"#f0f921\"]]}],\"contourcarpet\":[{\"type\":\"contourcarpet\",\"colorbar\":{\"outlinewidth\":0,\"ticks\":\"\"}}],\"contour\":[{\"type\":\"contour\",\"colorbar\":{\"outlinewidth\":0,\"ticks\":\"\"},\"colorscale\":[[0.0,\"#0d0887\"],[0.1111111111111111,\"#46039f\"],[0.2222222222222222,\"#7201a8\"],[0.3333333333333333,\"#9c179e\"],[0.4444444444444444,\"#bd3786\"],[0.5555555555555556,\"#d8576b\"],[0.6666666666666666,\"#ed7953\"],[0.7777777777777778,\"#fb9f3a\"],[0.8888888888888888,\"#fdca26\"],[1.0,\"#f0f921\"]]}],\"surface\":[{\"type\":\"surface\",\"colorbar\":{\"outlinewidth\":0,\"ticks\":\"\"},\"colorscale\":[[0.0,\"#0d0887\"],[0.1111111111111111,\"#46039f\"],[0.2222222222222222,\"#7201a8\"],[0.3333333333333333,\"#9c179e\"],[0.4444444444444444,\"#bd3786\"],[0.5555555555555556,\"#d8576b\"],[0.6666666666666666,\"#ed7953\"],[0.7777777777777778,\"#fb9f3a\"],[0.8888888888888888,\"#fdca26\"],[1.0,\"#f0f921\"]]}],\"mesh3d\":[{\"type\":\"mesh3d\",\"colorbar\":{\"outlinewidth\":0,\"ticks\":\"\"}}],\"scatter\":[{\"fillpattern\":{\"fillmode\":\"overlay\",\"size\":10,\"solidity\":0.2},\"type\":\"scatter\"}],\"parcoords\":[{\"type\":\"parcoords\",\"line\":{\"colorbar\":{\"outlinewidth\":0,\"ticks\":\"\"}}}],\"scatterpolargl\":[{\"type\":\"scatterpolargl\",\"marker\":{\"colorbar\":{\"outlinewidth\":0,\"ticks\":\"\"}}}],\"bar\":[{\"error_x\":{\"color\":\"#2a3f5f\"},\"error_y\":{\"color\":\"#2a3f5f\"},\"marker\":{\"line\":{\"color\":\"#E5ECF6\",\"width\":0.5},\"pattern\":{\"fillmode\":\"overlay\",\"size\":10,\"solidity\":0.2}},\"type\":\"bar\"}],\"scattergeo\":[{\"type\":\"scattergeo\",\"marker\":{\"colorbar\":{\"outlinewidth\":0,\"ticks\":\"\"}}}],\"scatterpolar\":[{\"type\":\"scatterpolar\",\"marker\":{\"colorbar\":{\"outlinewidth\":0,\"ticks\":\"\"}}}],\"histogram\":[{\"marker\":{\"pattern\":{\"fillmode\":\"overlay\",\"size\":10,\"solidity\":0.2}},\"type\":\"histogram\"}],\"scattergl\":[{\"type\":\"scattergl\",\"marker\":{\"colorbar\":{\"outlinewidth\":0,\"ticks\":\"\"}}}],\"scatter3d\":[{\"type\":\"scatter3d\",\"line\":{\"colorbar\":{\"outlinewidth\":0,\"ticks\":\"\"}},\"marker\":{\"colorbar\":{\"outlinewidth\":0,\"ticks\":\"\"}}}],\"scattermapbox\":[{\"type\":\"scattermapbox\",\"marker\":{\"colorbar\":{\"outlinewidth\":0,\"ticks\":\"\"}}}],\"scatterternary\":[{\"type\":\"scatterternary\",\"marker\":{\"colorbar\":{\"outlinewidth\":0,\"ticks\":\"\"}}}],\"scattercarpet\":[{\"type\":\"scattercarpet\",\"marker\":{\"colorbar\":{\"outlinewidth\":0,\"ticks\":\"\"}}}],\"carpet\":[{\"aaxis\":{\"endlinecolor\":\"#2a3f5f\",\"gridcolor\":\"white\",\"linecolor\":\"white\",\"minorgridcolor\":\"white\",\"startlinecolor\":\"#2a3f5f\"},\"baxis\":{\"endlinecolor\":\"#2a3f5f\",\"gridcolor\":\"white\",\"linecolor\":\"white\",\"minorgridcolor\":\"white\",\"startlinecolor\":\"#2a3f5f\"},\"type\":\"carpet\"}],\"table\":[{\"cells\":{\"fill\":{\"color\":\"#EBF0F8\"},\"line\":{\"color\":\"white\"}},\"header\":{\"fill\":{\"color\":\"#C8D4E3\"},\"line\":{\"color\":\"white\"}},\"type\":\"table\"}],\"barpolar\":[{\"marker\":{\"line\":{\"color\":\"#E5ECF6\",\"width\":0.5},\"pattern\":{\"fillmode\":\"overlay\",\"size\":10,\"solidity\":0.2}},\"type\":\"barpolar\"}],\"pie\":[{\"automargin\":true,\"type\":\"pie\"}]},\"layout\":{\"autotypenumbers\":\"strict\",\"colorway\":[\"#636efa\",\"#EF553B\",\"#00cc96\",\"#ab63fa\",\"#FFA15A\",\"#19d3f3\",\"#FF6692\",\"#B6E880\",\"#FF97FF\",\"#FECB52\"],\"font\":{\"color\":\"#2a3f5f\"},\"hovermode\":\"closest\",\"hoverlabel\":{\"align\":\"left\"},\"paper_bgcolor\":\"white\",\"plot_bgcolor\":\"#E5ECF6\",\"polar\":{\"bgcolor\":\"#E5ECF6\",\"angularaxis\":{\"gridcolor\":\"white\",\"linecolor\":\"white\",\"ticks\":\"\"},\"radialaxis\":{\"gridcolor\":\"white\",\"linecolor\":\"white\",\"ticks\":\"\"}},\"ternary\":{\"bgcolor\":\"#E5ECF6\",\"aaxis\":{\"gridcolor\":\"white\",\"linecolor\":\"white\",\"ticks\":\"\"},\"baxis\":{\"gridcolor\":\"white\",\"linecolor\":\"white\",\"ticks\":\"\"},\"caxis\":{\"gridcolor\":\"white\",\"linecolor\":\"white\",\"ticks\":\"\"}},\"coloraxis\":{\"colorbar\":{\"outlinewidth\":0,\"ticks\":\"\"}},\"colorscale\":{\"sequential\":[[0.0,\"#0d0887\"],[0.1111111111111111,\"#46039f\"],[0.2222222222222222,\"#7201a8\"],[0.3333333333333333,\"#9c179e\"],[0.4444444444444444,\"#bd3786\"],[0.5555555555555556,\"#d8576b\"],[0.6666666666666666,\"#ed7953\"],[0.7777777777777778,\"#fb9f3a\"],[0.8888888888888888,\"#fdca26\"],[1.0,\"#f0f921\"]],\"sequentialminus\":[[0.0,\"#0d0887\"],[0.1111111111111111,\"#46039f\"],[0.2222222222222222,\"#7201a8\"],[0.3333333333333333,\"#9c179e\"],[0.4444444444444444,\"#bd3786\"],[0.5555555555555556,\"#d8576b\"],[0.6666666666666666,\"#ed7953\"],[0.7777777777777778,\"#fb9f3a\"],[0.8888888888888888,\"#fdca26\"],[1.0,\"#f0f921\"]],\"diverging\":[[0,\"#8e0152\"],[0.1,\"#c51b7d\"],[0.2,\"#de77ae\"],[0.3,\"#f1b6da\"],[0.4,\"#fde0ef\"],[0.5,\"#f7f7f7\"],[0.6,\"#e6f5d0\"],[0.7,\"#b8e186\"],[0.8,\"#7fbc41\"],[0.9,\"#4d9221\"],[1,\"#276419\"]]},\"xaxis\":{\"gridcolor\":\"white\",\"linecolor\":\"white\",\"ticks\":\"\",\"title\":{\"standoff\":15},\"zerolinecolor\":\"white\",\"automargin\":true,\"zerolinewidth\":2},\"yaxis\":{\"gridcolor\":\"white\",\"linecolor\":\"white\",\"ticks\":\"\",\"title\":{\"standoff\":15},\"zerolinecolor\":\"white\",\"automargin\":true,\"zerolinewidth\":2},\"scene\":{\"xaxis\":{\"backgroundcolor\":\"#E5ECF6\",\"gridcolor\":\"white\",\"linecolor\":\"white\",\"showbackground\":true,\"ticks\":\"\",\"zerolinecolor\":\"white\",\"gridwidth\":2},\"yaxis\":{\"backgroundcolor\":\"#E5ECF6\",\"gridcolor\":\"white\",\"linecolor\":\"white\",\"showbackground\":true,\"ticks\":\"\",\"zerolinecolor\":\"white\",\"gridwidth\":2},\"zaxis\":{\"backgroundcolor\":\"#E5ECF6\",\"gridcolor\":\"white\",\"linecolor\":\"white\",\"showbackground\":true,\"ticks\":\"\",\"zerolinecolor\":\"white\",\"gridwidth\":2}},\"shapedefaults\":{\"line\":{\"color\":\"#2a3f5f\"}},\"annotationdefaults\":{\"arrowcolor\":\"#2a3f5f\",\"arrowhead\":0,\"arrowwidth\":1},\"geo\":{\"bgcolor\":\"white\",\"landcolor\":\"#E5ECF6\",\"subunitcolor\":\"white\",\"showland\":true,\"showlakes\":true,\"lakecolor\":\"white\"},\"title\":{\"x\":0.05},\"mapbox\":{\"style\":\"light\"}}},\"geo\":{\"lataxis\":{\"showgrid\":true,\"gridcolor\":\"black\"},\"lonaxis\":{\"showgrid\":true,\"gridcolor\":\"black\"},\"showcoastlines\":true,\"coastlinecolor\":\"Black\",\"showland\":true,\"landcolor\":\"#9fc164\",\"showocean\":true,\"oceancolor\":\"#b2d9ff\",\"showlakes\":false,\"showrivers\":false},\"title\":{\"text\":\"International Space Station groundtrack\"}},                        {\"responsive\": true}                    ).then(function(){\n",
       "                            \n",
       "var gd = document.getElementById('cccb0cb4-f154-46e9-a6a1-a50792a26432');\n",
       "var x = new MutationObserver(function (mutations, observer) {{\n",
       "        var display = window.getComputedStyle(gd).display;\n",
       "        if (!display || display === 'none') {{\n",
       "            console.log([gd, 'removed!']);\n",
       "            Plotly.purge(gd);\n",
       "            observer.disconnect();\n",
       "        }}\n",
       "}});\n",
       "\n",
       "// Listen for the removal of the full notebook cells\n",
       "var notebookContainer = gd.closest('#notebook-container');\n",
       "if (notebookContainer) {{\n",
       "    x.observe(notebookContainer, {childList: true});\n",
       "}}\n",
       "\n",
       "// Listen for the clearing of the current output cell\n",
       "var outputEl = gd.closest('.output');\n",
       "if (outputEl) {{\n",
       "    x.observe(outputEl, {childList: true});\n",
       "}}\n",
       "\n",
       "                        })                };                });            </script>        </div>"
      ]
     },
     "metadata": {},
     "output_type": "display_data"
    }
   ],
   "source": [
    "# Generate an instance of the plotter, add title and show latlon grid\n",
    "gp = GroundtrackPlotter()\n",
    "gp.update_layout(title=\"International Space Station groundtrack\")\n",
    "\n",
    "# Plot previously defined EarthSatellite object\n",
    "gp.plot(\n",
    "    iss_spacecraft,\n",
    "    t_span,\n",
    "    label=\"ISS\",\n",
    "    color=\"red\",\n",
    "    marker={\n",
    "        \"size\": 10,\n",
    "        \"symbol\": \"triangle-right\",\n",
    "        \"line\": {\"width\": 1, \"color\": \"black\"},\n",
    "    },\n",
    ")\n"
   ]
  },
  {
   "cell_type": "code",
   "execution_count": 12,
   "id": "cd86783c-5118-4862-9fc2-aca9abf0e5de",
   "metadata": {
    "tags": []
   },
   "outputs": [
    {
     "data": {
      "application/vnd.plotly.v1+json": {
       "config": {
        "plotlyServerURL": "https://plot.ly"
       },
       "data": [
        {
         "type": "scattergeo"
        },
        {
         "lat": [
          51.23769652459603,
          50.87517705025481,
          50.398746774033704,
          49.81259075413022,
          49.12158656093682,
          48.33113076632561,
          47.44696805683605,
          46.47503294411794,
          45.42131092457418,
          44.29172282049724,
          43.092033347736766,
          41.827782921982106,
          40.50424038064802,
          39.1263735838955,
          37.69883463059537,
          36.225956534106736,
          34.71175851532904,
          33.15995748208504,
          31.573983700940722,
          29.95699908378773,
          28.31191688162505,
          26.641421891551456,
          24.94799053895533,
          23.233910399669533,
          21.50129888334362,
          19.752120917232826,
          17.98820555645085,
          16.211261509201087,
          14.422891609225116,
          12.624606297386162,
          10.817836193620677,
          9.003943852411014,
          7.184234801636252,
          5.359967967896999,
          3.532365592394642,
          1.7026227411680992,
          -0.1280834874391154,
          -1.9585849562635407,
          -3.7877135828582214,
          -5.6142924327070185,
          -7.437126711842658,
          -9.254994558249479,
          -11.066637530729174,
          -12.870750693094111,
          -14.665972190905107,
          -16.450872218035155,
          -18.223941271747076,
          -19.983577598727187,
          -21.728073741852878,
          -23.455602110155453,
          -25.16419951467885,
          -26.851750643712204,
          -28.515970495858745,
          -30.154385853294233,
          -31.764315965942725,
          -33.34285273677437,
          -34.88684085624963,
          -36.39285853756685,
          -37.857199760251746,
          -39.27585924151593,
          -40.64452172075908,
          -41.958557551102224,
          -43.21302701641155,
          -44.40269618550331,
          -45.52206740285856,
          -46.565427593145145,
          -47.52691729409353,
          -48.40062258484754,
          -49.180690717033,
          -49.86146821829443,
          -50.43765757852395,
          -50.90448557879016,
          -51.257873314344295,
          -51.49459559462084,
          -51.61241632557125,
          -51.61018721321113,
          -51.48789986270391,
          -51.24668581294348,
          -50.88876451669119,
          -50.417344743585105,
          -49.836489341439055,
          -49.15095601689214,
          -48.36602752086135,
          -47.48734354048629,
          -46.52074422858411,
          -45.472132294517586,
          -44.34735753420153,
          -43.1521250226199,
          -41.89192615972705,
          -40.57199040479701,
          -39.197254789587106,
          -37.772348039419164,
          -36.30158620965518,
          -34.78897703236764,
          -33.23823056046536,
          -31.652774120158494,
          -30.035769990153728,
          -28.390134591019468,
          -26.71855827925577,
          -25.023525095868983,
          -23.307332022383992,
          -21.572107454706764,
          -19.819828724474704,
          -18.052338585767757,
          -16.271360648847217,
          -14.478513787562266,
          -12.675325577843259,
          -10.863244844997714,
          -9.043653410263337,
          -7.217877134502116,
          -5.387196360759978,
          -3.552855858939759,
          -1.7160743759914527,
          0.12194610549863613,
          1.9600112981576703,
          3.7969256285424158,
          5.631483242416068,
          7.4624588951249216,
          9.288598625038691,
          11.108610107157753,
          12.921152583020826,
          14.72482626236126,
          16.518161092035108,
          18.299604789364857,
          20.067510041151067,
          21.820120777639058,
          23.55555744445404,
          25.2718012173986,
          26.966677138088187,
          28.637836196701098,
          30.282736456504846,
          31.898623409284998,
          33.48250987819044,
          35.03115595247003,
          36.541049654678545,
          38.00838931166423,
          39.42906892917998,
          40.79866825322726,
          42.11244962535877,
          43.36536417396318,
          44.55207027600847,
          45.666967492365806,
          46.704249212030675,
          47.65797689724207,
          48.52217795386136,
          49.29096773441145,
          49.958693964559004,
          50.5200990535181,
          50.970492581193675,
          51.30592323385842,
          51.52333722709053,
          51.6207094738305,
          51.59713491492528,
          51.45287064014971,
          51.18932430782933,
          50.80899009029459,
          50.31533886116422,
          49.712673595736774,
          49.005963318938406,
          48.20066923669515,
          47.302575217010336,
          46.31763213530408,
          45.251822441321224,
          44.11104822914774,
          42.90104349614515,
          41.6273093522328,
          40.29506970888533,
          38.909244348334205,
          37.474436107280596,
          35.99492905792299,
          34.47469490301502,
          32.91740522122482,
          31.326447635328922,
          29.704944386078694,
          28.055772156359552,
          26.381582294829858,
          24.68482083564724,
          22.967747905998,
          21.232456263214633,
          19.480888815919954,
          17.71485506632639,
          15.936046470035556,
          14.146050750979663,
          12.346365236980319,
          10.538409299431825,
          8.723535991577547,
          6.903042985929426,
          5.078182914198446,
          3.250173213835268,
          1.4202055848681154,
          -0.4105448402468627,
          -2.2409105121147697,
          -4.069722564426755,
          -5.895801898198489,
          -7.717950149925487,
          -9.534940442934936,
          -11.345507820503267,
          -13.148339258472298,
          -14.94206315453184,
          -16.725238191561896,
          -18.49634147411991,
          -20.25375584137233,
          -21.99575626781445,
          -23.720495276792676,
          -25.425987313521595,
          -27.110092056971848,
          -28.77049669758822,
          -30.404697275077506,
          -32.00997926321954,
          -33.58339771356407,
          -35.12175743429212,
          -36.6215938918207,
          -38.0791557871349,
          -39.49039057935072,
          -40.850934602598876,
          -42.15610983548992,
          -43.40092980585967,
          -44.58011749600796,
          -45.68813837648578,
          -46.71925173097146,
          -47.66758310667734,
          -48.52721989017503,
          -49.29233054604046,
          -49.957305914782395,
          -50.51691822664189,
          -50.96649041090554,
          -51.302065328430324,
          -51.52056234424094,
          -51.61990783106017,
          -51.599127235216564,
          -51.45838936882148,
          -51.19899826988073,
          -50.823333510907375,
          -50.33474520964433,
          -49.73741422329394,
          -49.0361904297206,
          -48.236422421596785,
          -47.343790617504006,
          -46.364153282196376,
          -45.30341189939808,
          -44.167399331689644,
          -42.961791633543214,
          -41.692042455606135,
          -40.363337723298486,
          -38.98056761186032,
          -37.54831264042188,
          -36.070840826227915,
          -34.55211314971125,
          -32.99579498246822,
          -31.405271553828012,
          -29.78366593391613,
          -28.13385836831713,
          -26.45850610184598,
          -24.76006307582853,
          -23.040799078916898,
          -21.30281808255692,
          -19.548075606198903,
          -17.778395041421156,
          -15.99548292465633,
          -14.200943190743645,
          -12.396290468455543,
          -10.582962498107673,
          -8.762331763151604,
          -6.935716434426961,
          -5.1043907291477035,
          -3.2695947879787735,
          -1.4325441735382276,
          0.405560906888212,
          2.2435265523680097,
          4.080156191572979,
          5.914241576958579,
          7.744553648343139,
          9.569833163746058,
          11.388780994416011,
          13.200047980072538,
          15.002224239736702,
          16.793827833813626,
          18.57329267500395,
          20.338955590245362,
          22.089042444660244,
          23.821653253309155,
          25.534746229906332,
          27.22612075684488,
          28.89339931189444,
          30.534008458953345,
          32.14515910929478,
          33.723826392900655,
          35.26672965436532,
          36.770313312035945,
          38.23072959859208,
          39.64382453867166,
          41.005128909959716,
          42.30985636238348,
          43.552911302442084,
          44.728909529139884,
          45.832214848267306,
          46.85699487563025,
          47.79729882518883,
          48.647159117212944,
          49.40071701724383
         ],
         "line": {
          "color": "red"
         },
         "lon": [
          324.493120015839,
          328.02574635185886,
          331.4923659964341,
          334.87850829698067,
          338.1722485014637,
          341.36433017431034,
          344.44812998570416,
          347.4194963432027,
          350.27649913290963,
          353.01912738331765,
          355.6489668683334,
          358.16888260905836,
          0.5827236624439968,
          2.8950606841119066,
          5.110961146519852,
          7.2358029661890075,
          9.275124547034471,
          11.234507639768829,
          13.119488667519978,
          14.935494009751505,
          16.687794951865946,
          18.381478430857126,
          20.021430222727112,
          21.61232774920172,
          23.15864018510285,
          24.664633999632446,
          26.13438245550335,
          27.571777918379478,
          28.98054609969788,
          30.364261575111566,
          31.726364095730624,
          33.07017534746622,
          34.398915921370005,
          35.715722340910986,
          37.0236640551679,
          38.325760354090946,
          39.62499719611691,
          40.92434396207885,
          42.22677016403947,
          43.53526214456144,
          44.85283980142547,
          46.182573365091656,
          47.527600240450354,
          48.89114189979514,
          50.276520778626285,
          51.68717707752109,
          53.126685308823376,
          54.598770342466196,
          56.107322595933454,
          57.65641187371517,
          59.2502991850296,
          60.89344564819056,
          62.590517318651564,
          64.34638444957051,
          66.16611330510035,
          68.05494819939109,
          70.01828093906394,
          72.06160432901429,
          74.19044590743333,
          76.41027768332115,
          78.72639747578323,
          81.14377766498257,
          83.66687797691316,
          86.29942059793808,
          89.04412872218424,
          91.90243379835427,
          94.87416233514372,
          97.95721993198947,
          101.14729757270217,
          104.43763195514096,
          107.81885600244661,
          111.27897569091229,
          114.80350313748983,
          118.375762662779,
          121.97736709042654,
          125.58883867729911,
          129.19032726803408,
          132.76236254057548,
          136.28657150596908,
          139.74629823783496,
          143.12707861452103,
          146.4169446923905,
          149.60655618169025,
          152.68917590145895,
          155.6605192497851,
          158.51851385188618,
          161.26300550701575,
          163.8954421505153,
          166.41856079806908,
          168.83609506904443,
          171.1525140877152,
          173.37279798191062,
          175.50225104902728,
          177.54635086431986,
          179.51062994233018,
          181.40058575700252,
          183.22161472019613,
          184.97896589509148,
          186.67771061512582,
          188.3227246736305,
          189.91868026721,
          191.47004537082842,
          192.98108866923477,
          194.4558885574534,
          195.89834505071548,
          197.31219371503312,
          198.70102094953833,
          200.06828012794566,
          201.4173082457605,
          202.75134282885358,
          204.07353894317606,
          205.3869862095834,
          206.69472577574314,
          207.99976723205071,
          209.30510548268083,
          210.61373759794546,
          211.9286796811489,
          213.25298378260302,
          214.58975488525752,
          215.9421679699561,
          217.31348514254032,
          218.70707276788445,
          220.12641850518827,
          221.57514807105957,
          223.0570414680345,
          224.57604830115892,
          226.13630165824384,
          227.74212984347253,
          229.39806502212122,
          231.1088475488827,
          232.87942440766216,
          234.71493978356406,
          236.62071532090283,
          238.60221710682924,
          240.66500588722658,
          242.81466652163996,
          245.0567123024849,
          247.39645962824895,
          249.83886881049457,
          252.38834774228852,
          255.04851703483413,
          257.82193831865294,
          260.70981192056723,
          263.7116561067041,
          266.8249872403086,
          270.04502777855237,
          273.36447568478854,
          276.7733726951169,
          280.2591078526455,
          283.8065850623598,
          287.39856850396484,
          291.01619878179815,
          294.63964898475075,
          298.24886823066635,
          301.8243458847187,
          305.3478261494578,
          308.8029110476624,
          312.17550777765155,
          315.45409954093265,
          318.62984202553616,
          321.69650645109823,
          324.6503020029515,
          327.4896152186889,
          330.21470262999753,
          332.8273676854032,
          335.3306457422009,
          337.7285133854935,
          340.0256316033185,
          342.2271269657325,
          344.33841105278304,
          346.3650358230856,
          348.31258115851796,
          350.18657017824125,
          351.99240782781055,
          353.73533850589246,
          355.42041893481894,
          357.0525030030034,
          358.6362358372118,
          0.17605485947795468,
          1.676196026298109,
          3.140703828712477,
          4.573443951134051,
          5.978117748980686,
          7.358277917022282,
          8.717344889204073,
          10.058623643618606,
          11.38532068987765,
          12.700561095681266,
          14.007405469844853,
          15.308866863936538,
          16.607927587138875,
          17.90755595105639,
          19.210722974672933,
          20.520419085355236,
          21.839670850223,
          23.171557763259536,
          24.51922909655636,
          25.88592079792918,
          27.274972379922772,
          28.689843694686015,
          30.134131421827377,
          31.61158500844735,
          33.126121686957994,
          34.681840051364496,
          36.28303148982931,
          37.9341885435174,
          39.640008981956974,
          41.40539404777731,
          43.23543892571272,
          45.13541303514525,
          47.11072724464924,
          49.16688458908152,
          51.30941058550452,
          53.543758876520855,
          55.875187802879246,
          58.30860379517869,
          60.848368401988544,
          63.498067602896995,
          66.26024505933172,
          69.13610534061037,
          72.12519896599395,
          75.22510805339088,
          78.43115873064022,
          81.73619296049347,
          85.13043626001352,
          88.60149693367518,
          92.13452518325138,
          95.71254616780436,
          99.31696087220912,
          102.92818561860057,
          106.52637987210149,
          110.09219760244237,
          113.6074935137974,
          117.05592298197209,
          120.42339157964621,
          123.69833239327775,
          126.87181191511169,
          129.93748386715575,
          132.89142239170954,
          135.73187112841748,
          138.4589438525744,
          141.07430745402579,
          143.5808710905726,
          145.98249800433345,
          148.28374984998558,
          150.48966802022474,
          152.60559252331632,
          154.63701636379474,
          156.58947186378398,
          158.46844466563613,
          160.27931102269753,
          162.02729420475774,
          163.7174362609685,
          165.35458188520468,
          166.94337164564598,
          168.48824232898048,
          169.99343258771006,
          171.46299245771002,
          172.90079563179415,
          174.31055363755934,
          175.69583128051465,
          177.0600628835362,
          178.40656898795584,
          179.73857328636626,
          181.05921963798755,
          182.3715890789851,
          183.6787167858548,
          184.9836089832138,
          186.2892598099773,
          187.59866817171542,
          188.91485461275795,
          190.24087823997897,
          191.579853720707,
          192.93496835947505,
          194.30949923086823,
          195.70683030670767,
          197.1304694626157,
          198.58406517829164,
          200.07142265323705,
          201.59651894012427,
          203.16351654543817,
          204.77677475448098,
          206.44085769816857,
          208.16053788487636,
          209.94079356653165,
          211.78679789135168,
          213.7038973202965,
          215.6975762648429,
          217.77340437175744,
          219.93696239238855,
          222.19374222086734,
          224.5490166027049,
          227.0076743904167,
          229.57401829577813,
          232.25152413657992,
          235.04256387417482,
          237.94809948258708,
          240.96736087982168,
          244.09752843846718,
          247.33344812788684
         ],
         "mode": "lines",
         "name": "ISS",
         "type": "scattergeo"
        },
        {
         "lat": [
          51.42953428309302
         ],
         "lon": [
          285.59816127653147
         ],
         "marker": {
          "color": "red",
          "line": {
           "color": "black",
           "width": 1
          },
          "size": 10,
          "symbol": "triangle-right"
         },
         "name": "ISS",
         "showlegend": false,
         "type": "scattergeo"
        },
        {
         "lat": [
          40.416729
         ],
         "lon": [
          -3.703339
         ],
         "marker": {
          "color": "blue"
         },
         "name": "Madrid",
         "type": "scattergeo"
        }
       ],
       "layout": {
        "autosize": true,
        "geo": {
         "center": {
          "lat": 4.369874824027144,
          "lon": 93.04479964481271
         },
         "coastlinecolor": "Black",
         "landcolor": "#9fc164",
         "lataxis": {
          "gridcolor": "black",
          "showgrid": true
         },
         "lonaxis": {
          "gridcolor": "black",
          "showgrid": true
         },
         "oceancolor": "#b2d9ff",
         "projection": {
          "rotation": {
           "lon": 93.04479964481271
          },
          "scale": 2.203810231753221
         },
         "showcoastlines": true,
         "showlakes": false,
         "showland": true,
         "showocean": true,
         "showrivers": false
        },
        "template": {
         "data": {
          "bar": [
           {
            "error_x": {
             "color": "#2a3f5f"
            },
            "error_y": {
             "color": "#2a3f5f"
            },
            "marker": {
             "line": {
              "color": "#E5ECF6",
              "width": 0.5
             },
             "pattern": {
              "fillmode": "overlay",
              "size": 10,
              "solidity": 0.2
             }
            },
            "type": "bar"
           }
          ],
          "barpolar": [
           {
            "marker": {
             "line": {
              "color": "#E5ECF6",
              "width": 0.5
             },
             "pattern": {
              "fillmode": "overlay",
              "size": 10,
              "solidity": 0.2
             }
            },
            "type": "barpolar"
           }
          ],
          "carpet": [
           {
            "aaxis": {
             "endlinecolor": "#2a3f5f",
             "gridcolor": "white",
             "linecolor": "white",
             "minorgridcolor": "white",
             "startlinecolor": "#2a3f5f"
            },
            "baxis": {
             "endlinecolor": "#2a3f5f",
             "gridcolor": "white",
             "linecolor": "white",
             "minorgridcolor": "white",
             "startlinecolor": "#2a3f5f"
            },
            "type": "carpet"
           }
          ],
          "choropleth": [
           {
            "colorbar": {
             "outlinewidth": 0,
             "ticks": ""
            },
            "type": "choropleth"
           }
          ],
          "contour": [
           {
            "colorbar": {
             "outlinewidth": 0,
             "ticks": ""
            },
            "colorscale": [
             [
              0,
              "#0d0887"
             ],
             [
              0.1111111111111111,
              "#46039f"
             ],
             [
              0.2222222222222222,
              "#7201a8"
             ],
             [
              0.3333333333333333,
              "#9c179e"
             ],
             [
              0.4444444444444444,
              "#bd3786"
             ],
             [
              0.5555555555555556,
              "#d8576b"
             ],
             [
              0.6666666666666666,
              "#ed7953"
             ],
             [
              0.7777777777777778,
              "#fb9f3a"
             ],
             [
              0.8888888888888888,
              "#fdca26"
             ],
             [
              1,
              "#f0f921"
             ]
            ],
            "type": "contour"
           }
          ],
          "contourcarpet": [
           {
            "colorbar": {
             "outlinewidth": 0,
             "ticks": ""
            },
            "type": "contourcarpet"
           }
          ],
          "heatmap": [
           {
            "colorbar": {
             "outlinewidth": 0,
             "ticks": ""
            },
            "colorscale": [
             [
              0,
              "#0d0887"
             ],
             [
              0.1111111111111111,
              "#46039f"
             ],
             [
              0.2222222222222222,
              "#7201a8"
             ],
             [
              0.3333333333333333,
              "#9c179e"
             ],
             [
              0.4444444444444444,
              "#bd3786"
             ],
             [
              0.5555555555555556,
              "#d8576b"
             ],
             [
              0.6666666666666666,
              "#ed7953"
             ],
             [
              0.7777777777777778,
              "#fb9f3a"
             ],
             [
              0.8888888888888888,
              "#fdca26"
             ],
             [
              1,
              "#f0f921"
             ]
            ],
            "type": "heatmap"
           }
          ],
          "heatmapgl": [
           {
            "colorbar": {
             "outlinewidth": 0,
             "ticks": ""
            },
            "colorscale": [
             [
              0,
              "#0d0887"
             ],
             [
              0.1111111111111111,
              "#46039f"
             ],
             [
              0.2222222222222222,
              "#7201a8"
             ],
             [
              0.3333333333333333,
              "#9c179e"
             ],
             [
              0.4444444444444444,
              "#bd3786"
             ],
             [
              0.5555555555555556,
              "#d8576b"
             ],
             [
              0.6666666666666666,
              "#ed7953"
             ],
             [
              0.7777777777777778,
              "#fb9f3a"
             ],
             [
              0.8888888888888888,
              "#fdca26"
             ],
             [
              1,
              "#f0f921"
             ]
            ],
            "type": "heatmapgl"
           }
          ],
          "histogram": [
           {
            "marker": {
             "pattern": {
              "fillmode": "overlay",
              "size": 10,
              "solidity": 0.2
             }
            },
            "type": "histogram"
           }
          ],
          "histogram2d": [
           {
            "colorbar": {
             "outlinewidth": 0,
             "ticks": ""
            },
            "colorscale": [
             [
              0,
              "#0d0887"
             ],
             [
              0.1111111111111111,
              "#46039f"
             ],
             [
              0.2222222222222222,
              "#7201a8"
             ],
             [
              0.3333333333333333,
              "#9c179e"
             ],
             [
              0.4444444444444444,
              "#bd3786"
             ],
             [
              0.5555555555555556,
              "#d8576b"
             ],
             [
              0.6666666666666666,
              "#ed7953"
             ],
             [
              0.7777777777777778,
              "#fb9f3a"
             ],
             [
              0.8888888888888888,
              "#fdca26"
             ],
             [
              1,
              "#f0f921"
             ]
            ],
            "type": "histogram2d"
           }
          ],
          "histogram2dcontour": [
           {
            "colorbar": {
             "outlinewidth": 0,
             "ticks": ""
            },
            "colorscale": [
             [
              0,
              "#0d0887"
             ],
             [
              0.1111111111111111,
              "#46039f"
             ],
             [
              0.2222222222222222,
              "#7201a8"
             ],
             [
              0.3333333333333333,
              "#9c179e"
             ],
             [
              0.4444444444444444,
              "#bd3786"
             ],
             [
              0.5555555555555556,
              "#d8576b"
             ],
             [
              0.6666666666666666,
              "#ed7953"
             ],
             [
              0.7777777777777778,
              "#fb9f3a"
             ],
             [
              0.8888888888888888,
              "#fdca26"
             ],
             [
              1,
              "#f0f921"
             ]
            ],
            "type": "histogram2dcontour"
           }
          ],
          "mesh3d": [
           {
            "colorbar": {
             "outlinewidth": 0,
             "ticks": ""
            },
            "type": "mesh3d"
           }
          ],
          "parcoords": [
           {
            "line": {
             "colorbar": {
              "outlinewidth": 0,
              "ticks": ""
             }
            },
            "type": "parcoords"
           }
          ],
          "pie": [
           {
            "automargin": true,
            "type": "pie"
           }
          ],
          "scatter": [
           {
            "fillpattern": {
             "fillmode": "overlay",
             "size": 10,
             "solidity": 0.2
            },
            "type": "scatter"
           }
          ],
          "scatter3d": [
           {
            "line": {
             "colorbar": {
              "outlinewidth": 0,
              "ticks": ""
             }
            },
            "marker": {
             "colorbar": {
              "outlinewidth": 0,
              "ticks": ""
             }
            },
            "type": "scatter3d"
           }
          ],
          "scattercarpet": [
           {
            "marker": {
             "colorbar": {
              "outlinewidth": 0,
              "ticks": ""
             }
            },
            "type": "scattercarpet"
           }
          ],
          "scattergeo": [
           {
            "marker": {
             "colorbar": {
              "outlinewidth": 0,
              "ticks": ""
             }
            },
            "type": "scattergeo"
           }
          ],
          "scattergl": [
           {
            "marker": {
             "colorbar": {
              "outlinewidth": 0,
              "ticks": ""
             }
            },
            "type": "scattergl"
           }
          ],
          "scattermapbox": [
           {
            "marker": {
             "colorbar": {
              "outlinewidth": 0,
              "ticks": ""
             }
            },
            "type": "scattermapbox"
           }
          ],
          "scatterpolar": [
           {
            "marker": {
             "colorbar": {
              "outlinewidth": 0,
              "ticks": ""
             }
            },
            "type": "scatterpolar"
           }
          ],
          "scatterpolargl": [
           {
            "marker": {
             "colorbar": {
              "outlinewidth": 0,
              "ticks": ""
             }
            },
            "type": "scatterpolargl"
           }
          ],
          "scatterternary": [
           {
            "marker": {
             "colorbar": {
              "outlinewidth": 0,
              "ticks": ""
             }
            },
            "type": "scatterternary"
           }
          ],
          "surface": [
           {
            "colorbar": {
             "outlinewidth": 0,
             "ticks": ""
            },
            "colorscale": [
             [
              0,
              "#0d0887"
             ],
             [
              0.1111111111111111,
              "#46039f"
             ],
             [
              0.2222222222222222,
              "#7201a8"
             ],
             [
              0.3333333333333333,
              "#9c179e"
             ],
             [
              0.4444444444444444,
              "#bd3786"
             ],
             [
              0.5555555555555556,
              "#d8576b"
             ],
             [
              0.6666666666666666,
              "#ed7953"
             ],
             [
              0.7777777777777778,
              "#fb9f3a"
             ],
             [
              0.8888888888888888,
              "#fdca26"
             ],
             [
              1,
              "#f0f921"
             ]
            ],
            "type": "surface"
           }
          ],
          "table": [
           {
            "cells": {
             "fill": {
              "color": "#EBF0F8"
             },
             "line": {
              "color": "white"
             }
            },
            "header": {
             "fill": {
              "color": "#C8D4E3"
             },
             "line": {
              "color": "white"
             }
            },
            "type": "table"
           }
          ]
         },
         "layout": {
          "annotationdefaults": {
           "arrowcolor": "#2a3f5f",
           "arrowhead": 0,
           "arrowwidth": 1
          },
          "autotypenumbers": "strict",
          "coloraxis": {
           "colorbar": {
            "outlinewidth": 0,
            "ticks": ""
           }
          },
          "colorscale": {
           "diverging": [
            [
             0,
             "#8e0152"
            ],
            [
             0.1,
             "#c51b7d"
            ],
            [
             0.2,
             "#de77ae"
            ],
            [
             0.3,
             "#f1b6da"
            ],
            [
             0.4,
             "#fde0ef"
            ],
            [
             0.5,
             "#f7f7f7"
            ],
            [
             0.6,
             "#e6f5d0"
            ],
            [
             0.7,
             "#b8e186"
            ],
            [
             0.8,
             "#7fbc41"
            ],
            [
             0.9,
             "#4d9221"
            ],
            [
             1,
             "#276419"
            ]
           ],
           "sequential": [
            [
             0,
             "#0d0887"
            ],
            [
             0.1111111111111111,
             "#46039f"
            ],
            [
             0.2222222222222222,
             "#7201a8"
            ],
            [
             0.3333333333333333,
             "#9c179e"
            ],
            [
             0.4444444444444444,
             "#bd3786"
            ],
            [
             0.5555555555555556,
             "#d8576b"
            ],
            [
             0.6666666666666666,
             "#ed7953"
            ],
            [
             0.7777777777777778,
             "#fb9f3a"
            ],
            [
             0.8888888888888888,
             "#fdca26"
            ],
            [
             1,
             "#f0f921"
            ]
           ],
           "sequentialminus": [
            [
             0,
             "#0d0887"
            ],
            [
             0.1111111111111111,
             "#46039f"
            ],
            [
             0.2222222222222222,
             "#7201a8"
            ],
            [
             0.3333333333333333,
             "#9c179e"
            ],
            [
             0.4444444444444444,
             "#bd3786"
            ],
            [
             0.5555555555555556,
             "#d8576b"
            ],
            [
             0.6666666666666666,
             "#ed7953"
            ],
            [
             0.7777777777777778,
             "#fb9f3a"
            ],
            [
             0.8888888888888888,
             "#fdca26"
            ],
            [
             1,
             "#f0f921"
            ]
           ]
          },
          "colorway": [
           "#636efa",
           "#EF553B",
           "#00cc96",
           "#ab63fa",
           "#FFA15A",
           "#19d3f3",
           "#FF6692",
           "#B6E880",
           "#FF97FF",
           "#FECB52"
          ],
          "font": {
           "color": "#2a3f5f"
          },
          "geo": {
           "bgcolor": "white",
           "lakecolor": "white",
           "landcolor": "#E5ECF6",
           "showlakes": true,
           "showland": true,
           "subunitcolor": "white"
          },
          "hoverlabel": {
           "align": "left"
          },
          "hovermode": "closest",
          "mapbox": {
           "style": "light"
          },
          "paper_bgcolor": "white",
          "plot_bgcolor": "#E5ECF6",
          "polar": {
           "angularaxis": {
            "gridcolor": "white",
            "linecolor": "white",
            "ticks": ""
           },
           "bgcolor": "#E5ECF6",
           "radialaxis": {
            "gridcolor": "white",
            "linecolor": "white",
            "ticks": ""
           }
          },
          "scene": {
           "xaxis": {
            "backgroundcolor": "#E5ECF6",
            "gridcolor": "white",
            "gridwidth": 2,
            "linecolor": "white",
            "showbackground": true,
            "ticks": "",
            "zerolinecolor": "white"
           },
           "yaxis": {
            "backgroundcolor": "#E5ECF6",
            "gridcolor": "white",
            "gridwidth": 2,
            "linecolor": "white",
            "showbackground": true,
            "ticks": "",
            "zerolinecolor": "white"
           },
           "zaxis": {
            "backgroundcolor": "#E5ECF6",
            "gridcolor": "white",
            "gridwidth": 2,
            "linecolor": "white",
            "showbackground": true,
            "ticks": "",
            "zerolinecolor": "white"
           }
          },
          "shapedefaults": {
           "line": {
            "color": "#2a3f5f"
           }
          },
          "ternary": {
           "aaxis": {
            "gridcolor": "white",
            "linecolor": "white",
            "ticks": ""
           },
           "baxis": {
            "gridcolor": "white",
            "linecolor": "white",
            "ticks": ""
           },
           "bgcolor": "#E5ECF6",
           "caxis": {
            "gridcolor": "white",
            "linecolor": "white",
            "ticks": ""
           }
          },
          "title": {
           "x": 0.05
          },
          "xaxis": {
           "automargin": true,
           "gridcolor": "white",
           "linecolor": "white",
           "ticks": "",
           "title": {
            "standoff": 15
           },
           "zerolinecolor": "white",
           "zerolinewidth": 2
          },
          "yaxis": {
           "automargin": true,
           "gridcolor": "white",
           "linecolor": "white",
           "ticks": "",
           "title": {
            "standoff": 15
           },
           "zerolinecolor": "white",
           "zerolinewidth": 2
          }
         }
        },
        "title": {
         "text": "International Space Station groundtrack"
        }
       }
      },
      "image/png": "[encoded data removed]",
      "text/html": [
       "<div>                            <div id=\"3c632e24-d1de-4a32-89e3-36074b2a746a\" class=\"plotly-graph-div\" style=\"height:525px; width:100%;\"></div>            <script type=\"text/javascript\">                require([\"plotly\"], function(Plotly) {                    window.PLOTLYENV=window.PLOTLYENV || {};                                    if (document.getElementById(\"3c632e24-d1de-4a32-89e3-36074b2a746a\")) {                    Plotly.newPlot(                        \"3c632e24-d1de-4a32-89e3-36074b2a746a\",                        [{\"type\":\"scattergeo\"},{\"lat\":[51.23769652459603,50.87517705025481,50.398746774033704,49.81259075413022,49.12158656093682,48.33113076632561,47.44696805683605,46.47503294411794,45.42131092457418,44.29172282049724,43.092033347736766,41.827782921982106,40.50424038064802,39.1263735838955,37.69883463059537,36.225956534106736,34.71175851532904,33.15995748208504,31.573983700940722,29.95699908378773,28.31191688162505,26.641421891551456,24.94799053895533,23.233910399669533,21.50129888334362,19.752120917232826,17.98820555645085,16.211261509201087,14.422891609225116,12.624606297386162,10.817836193620677,9.003943852411014,7.184234801636252,5.359967967896999,3.532365592394642,1.7026227411680992,-0.1280834874391154,-1.9585849562635407,-3.7877135828582214,-5.6142924327070185,-7.437126711842658,-9.254994558249479,-11.066637530729174,-12.870750693094111,-14.665972190905107,-16.450872218035155,-18.223941271747076,-19.983577598727187,-21.728073741852878,-23.455602110155453,-25.16419951467885,-26.851750643712204,-28.515970495858745,-30.154385853294233,-31.764315965942725,-33.34285273677437,-34.88684085624963,-36.39285853756685,-37.857199760251746,-39.27585924151593,-40.64452172075908,-41.958557551102224,-43.21302701641155,-44.40269618550331,-45.52206740285856,-46.565427593145145,-47.52691729409353,-48.40062258484754,-49.180690717033,-49.86146821829443,-50.43765757852395,-50.90448557879016,-51.257873314344295,-51.49459559462084,-51.61241632557125,-51.61018721321113,-51.48789986270391,-51.24668581294348,-50.88876451669119,-50.417344743585105,-49.836489341439055,-49.15095601689214,-48.36602752086135,-47.48734354048629,-46.52074422858411,-45.472132294517586,-44.34735753420153,-43.1521250226199,-41.89192615972705,-40.57199040479701,-39.197254789587106,-37.772348039419164,-36.30158620965518,-34.78897703236764,-33.23823056046536,-31.652774120158494,-30.035769990153728,-28.390134591019468,-26.71855827925577,-25.023525095868983,-23.307332022383992,-21.572107454706764,-19.819828724474704,-18.052338585767757,-16.271360648847217,-14.478513787562266,-12.675325577843259,-10.863244844997714,-9.043653410263337,-7.217877134502116,-5.387196360759978,-3.552855858939759,-1.7160743759914527,0.12194610549863613,1.9600112981576703,3.7969256285424158,5.631483242416068,7.4624588951249216,9.288598625038691,11.108610107157753,12.921152583020826,14.72482626236126,16.518161092035108,18.299604789364857,20.067510041151067,21.820120777639058,23.55555744445404,25.2718012173986,26.966677138088187,28.637836196701098,30.282736456504846,31.898623409284998,33.48250987819044,35.03115595247003,36.541049654678545,38.00838931166423,39.42906892917998,40.79866825322726,42.11244962535877,43.36536417396318,44.55207027600847,45.666967492365806,46.704249212030675,47.65797689724207,48.52217795386136,49.29096773441145,49.958693964559004,50.5200990535181,50.970492581193675,51.30592323385842,51.52333722709053,51.6207094738305,51.59713491492528,51.45287064014971,51.18932430782933,50.80899009029459,50.31533886116422,49.712673595736774,49.005963318938406,48.20066923669515,47.302575217010336,46.31763213530408,45.251822441321224,44.11104822914774,42.90104349614515,41.6273093522328,40.29506970888533,38.909244348334205,37.474436107280596,35.99492905792299,34.47469490301502,32.91740522122482,31.326447635328922,29.704944386078694,28.055772156359552,26.381582294829858,24.68482083564724,22.967747905998,21.232456263214633,19.480888815919954,17.71485506632639,15.936046470035556,14.146050750979663,12.346365236980319,10.538409299431825,8.723535991577547,6.903042985929426,5.078182914198446,3.250173213835268,1.4202055848681154,-0.4105448402468627,-2.2409105121147697,-4.069722564426755,-5.895801898198489,-7.717950149925487,-9.534940442934936,-11.345507820503267,-13.148339258472298,-14.94206315453184,-16.725238191561896,-18.49634147411991,-20.25375584137233,-21.99575626781445,-23.720495276792676,-25.425987313521595,-27.110092056971848,-28.77049669758822,-30.404697275077506,-32.00997926321954,-33.58339771356407,-35.12175743429212,-36.6215938918207,-38.0791557871349,-39.49039057935072,-40.850934602598876,-42.15610983548992,-43.40092980585967,-44.58011749600796,-45.68813837648578,-46.71925173097146,-47.66758310667734,-48.52721989017503,-49.29233054604046,-49.957305914782395,-50.51691822664189,-50.96649041090554,-51.302065328430324,-51.52056234424094,-51.61990783106017,-51.599127235216564,-51.45838936882148,-51.19899826988073,-50.823333510907375,-50.33474520964433,-49.73741422329394,-49.0361904297206,-48.236422421596785,-47.343790617504006,-46.364153282196376,-45.30341189939808,-44.167399331689644,-42.961791633543214,-41.692042455606135,-40.363337723298486,-38.98056761186032,-37.54831264042188,-36.070840826227915,-34.55211314971125,-32.99579498246822,-31.405271553828012,-29.78366593391613,-28.13385836831713,-26.45850610184598,-24.76006307582853,-23.040799078916898,-21.30281808255692,-19.548075606198903,-17.778395041421156,-15.99548292465633,-14.200943190743645,-12.396290468455543,-10.582962498107673,-8.762331763151604,-6.935716434426961,-5.1043907291477035,-3.2695947879787735,-1.4325441735382276,0.405560906888212,2.2435265523680097,4.080156191572979,5.914241576958579,7.744553648343139,9.569833163746058,11.388780994416011,13.200047980072538,15.002224239736702,16.793827833813626,18.57329267500395,20.338955590245362,22.089042444660244,23.821653253309155,25.534746229906332,27.22612075684488,28.89339931189444,30.534008458953345,32.14515910929478,33.723826392900655,35.26672965436532,36.770313312035945,38.23072959859208,39.64382453867166,41.005128909959716,42.30985636238348,43.552911302442084,44.728909529139884,45.832214848267306,46.85699487563025,47.79729882518883,48.647159117212944,49.40071701724383],\"line\":{\"color\":\"red\"},\"lon\":[324.493120015839,328.02574635185886,331.4923659964341,334.87850829698067,338.1722485014637,341.36433017431034,344.44812998570416,347.4194963432027,350.27649913290963,353.01912738331765,355.6489668683334,358.16888260905836,0.5827236624439968,2.8950606841119066,5.110961146519852,7.2358029661890075,9.275124547034471,11.234507639768829,13.119488667519978,14.935494009751505,16.687794951865946,18.381478430857126,20.021430222727112,21.61232774920172,23.15864018510285,24.664633999632446,26.13438245550335,27.571777918379478,28.98054609969788,30.364261575111566,31.726364095730624,33.07017534746622,34.398915921370005,35.715722340910986,37.0236640551679,38.325760354090946,39.62499719611691,40.92434396207885,42.22677016403947,43.53526214456144,44.85283980142547,46.182573365091656,47.527600240450354,48.89114189979514,50.276520778626285,51.68717707752109,53.126685308823376,54.598770342466196,56.107322595933454,57.65641187371517,59.2502991850296,60.89344564819056,62.590517318651564,64.34638444957051,66.16611330510035,68.05494819939109,70.01828093906394,72.06160432901429,74.19044590743333,76.41027768332115,78.72639747578323,81.14377766498257,83.66687797691316,86.29942059793808,89.04412872218424,91.90243379835427,94.87416233514372,97.95721993198947,101.14729757270217,104.43763195514096,107.81885600244661,111.27897569091229,114.80350313748983,118.375762662779,121.97736709042654,125.58883867729911,129.19032726803408,132.76236254057548,136.28657150596908,139.74629823783496,143.12707861452103,146.4169446923905,149.60655618169025,152.68917590145895,155.6605192497851,158.51851385188618,161.26300550701575,163.8954421505153,166.41856079806908,168.83609506904443,171.1525140877152,173.37279798191062,175.50225104902728,177.54635086431986,179.51062994233018,181.40058575700252,183.22161472019613,184.97896589509148,186.67771061512582,188.3227246736305,189.91868026721,191.47004537082842,192.98108866923477,194.4558885574534,195.89834505071548,197.31219371503312,198.70102094953833,200.06828012794566,201.4173082457605,202.75134282885358,204.07353894317606,205.3869862095834,206.69472577574314,207.99976723205071,209.30510548268083,210.61373759794546,211.9286796811489,213.25298378260302,214.58975488525752,215.9421679699561,217.31348514254032,218.70707276788445,220.12641850518827,221.57514807105957,223.0570414680345,224.57604830115892,226.13630165824384,227.74212984347253,229.39806502212122,231.1088475488827,232.87942440766216,234.71493978356406,236.62071532090283,238.60221710682924,240.66500588722658,242.81466652163996,245.0567123024849,247.39645962824895,249.83886881049457,252.38834774228852,255.04851703483413,257.82193831865294,260.70981192056723,263.7116561067041,266.8249872403086,270.04502777855237,273.36447568478854,276.7733726951169,280.2591078526455,283.8065850623598,287.39856850396484,291.01619878179815,294.63964898475075,298.24886823066635,301.8243458847187,305.3478261494578,308.8029110476624,312.17550777765155,315.45409954093265,318.62984202553616,321.69650645109823,324.6503020029515,327.4896152186889,330.21470262999753,332.8273676854032,335.3306457422009,337.7285133854935,340.0256316033185,342.2271269657325,344.33841105278304,346.3650358230856,348.31258115851796,350.18657017824125,351.99240782781055,353.73533850589246,355.42041893481894,357.0525030030034,358.6362358372118,0.17605485947795468,1.676196026298109,3.140703828712477,4.573443951134051,5.978117748980686,7.358277917022282,8.717344889204073,10.058623643618606,11.38532068987765,12.700561095681266,14.007405469844853,15.308866863936538,16.607927587138875,17.90755595105639,19.210722974672933,20.520419085355236,21.839670850223,23.171557763259536,24.51922909655636,25.88592079792918,27.274972379922772,28.689843694686015,30.134131421827377,31.61158500844735,33.126121686957994,34.681840051364496,36.28303148982931,37.9341885435174,39.640008981956974,41.40539404777731,43.23543892571272,45.13541303514525,47.11072724464924,49.16688458908152,51.30941058550452,53.543758876520855,55.875187802879246,58.30860379517869,60.848368401988544,63.498067602896995,66.26024505933172,69.13610534061037,72.12519896599395,75.22510805339088,78.43115873064022,81.73619296049347,85.13043626001352,88.60149693367518,92.13452518325138,95.71254616780436,99.31696087220912,102.92818561860057,106.52637987210149,110.09219760244237,113.6074935137974,117.05592298197209,120.42339157964621,123.69833239327775,126.87181191511169,129.93748386715575,132.89142239170954,135.73187112841748,138.4589438525744,141.07430745402579,143.5808710905726,145.98249800433345,148.28374984998558,150.48966802022474,152.60559252331632,154.63701636379474,156.58947186378398,158.46844466563613,160.27931102269753,162.02729420475774,163.7174362609685,165.35458188520468,166.94337164564598,168.48824232898048,169.99343258771006,171.46299245771002,172.90079563179415,174.31055363755934,175.69583128051465,177.0600628835362,178.40656898795584,179.73857328636626,181.05921963798755,182.3715890789851,183.6787167858548,184.9836089832138,186.2892598099773,187.59866817171542,188.91485461275795,190.24087823997897,191.579853720707,192.93496835947505,194.30949923086823,195.70683030670767,197.1304694626157,198.58406517829164,200.07142265323705,201.59651894012427,203.16351654543817,204.77677475448098,206.44085769816857,208.16053788487636,209.94079356653165,211.78679789135168,213.7038973202965,215.6975762648429,217.77340437175744,219.93696239238855,222.19374222086734,224.5490166027049,227.0076743904167,229.57401829577813,232.25152413657992,235.04256387417482,237.94809948258708,240.96736087982168,244.09752843846718,247.33344812788684],\"mode\":\"lines\",\"name\":\"ISS\",\"type\":\"scattergeo\"},{\"lat\":[51.42953428309302],\"lon\":[285.59816127653147],\"marker\":{\"color\":\"red\",\"line\":{\"color\":\"black\",\"width\":1},\"size\":10,\"symbol\":\"triangle-right\"},\"name\":\"ISS\",\"showlegend\":false,\"type\":\"scattergeo\"},{\"lat\":[40.416729],\"lon\":[-3.703339],\"marker\":{\"color\":\"blue\"},\"name\":\"Madrid\",\"type\":\"scattergeo\"}],                        {\"template\":{\"data\":{\"histogram2dcontour\":[{\"type\":\"histogram2dcontour\",\"colorbar\":{\"outlinewidth\":0,\"ticks\":\"\"},\"colorscale\":[[0.0,\"#0d0887\"],[0.1111111111111111,\"#46039f\"],[0.2222222222222222,\"#7201a8\"],[0.3333333333333333,\"#9c179e\"],[0.4444444444444444,\"#bd3786\"],[0.5555555555555556,\"#d8576b\"],[0.6666666666666666,\"#ed7953\"],[0.7777777777777778,\"#fb9f3a\"],[0.8888888888888888,\"#fdca26\"],[1.0,\"#f0f921\"]]}],\"choropleth\":[{\"type\":\"choropleth\",\"colorbar\":{\"outlinewidth\":0,\"ticks\":\"\"}}],\"histogram2d\":[{\"type\":\"histogram2d\",\"colorbar\":{\"outlinewidth\":0,\"ticks\":\"\"},\"colorscale\":[[0.0,\"#0d0887\"],[0.1111111111111111,\"#46039f\"],[0.2222222222222222,\"#7201a8\"],[0.3333333333333333,\"#9c179e\"],[0.4444444444444444,\"#bd3786\"],[0.5555555555555556,\"#d8576b\"],[0.6666666666666666,\"#ed7953\"],[0.7777777777777778,\"#fb9f3a\"],[0.8888888888888888,\"#fdca26\"],[1.0,\"#f0f921\"]]}],\"heatmap\":[{\"type\":\"heatmap\",\"colorbar\":{\"outlinewidth\":0,\"ticks\":\"\"},\"colorscale\":[[0.0,\"#0d0887\"],[0.1111111111111111,\"#46039f\"],[0.2222222222222222,\"#7201a8\"],[0.3333333333333333,\"#9c179e\"],[0.4444444444444444,\"#bd3786\"],[0.5555555555555556,\"#d8576b\"],[0.6666666666666666,\"#ed7953\"],[0.7777777777777778,\"#fb9f3a\"],[0.8888888888888888,\"#fdca26\"],[1.0,\"#f0f921\"]]}],\"heatmapgl\":[{\"type\":\"heatmapgl\",\"colorbar\":{\"outlinewidth\":0,\"ticks\":\"\"},\"colorscale\":[[0.0,\"#0d0887\"],[0.1111111111111111,\"#46039f\"],[0.2222222222222222,\"#7201a8\"],[0.3333333333333333,\"#9c179e\"],[0.4444444444444444,\"#bd3786\"],[0.5555555555555556,\"#d8576b\"],[0.6666666666666666,\"#ed7953\"],[0.7777777777777778,\"#fb9f3a\"],[0.8888888888888888,\"#fdca26\"],[1.0,\"#f0f921\"]]}],\"contourcarpet\":[{\"type\":\"contourcarpet\",\"colorbar\":{\"outlinewidth\":0,\"ticks\":\"\"}}],\"contour\":[{\"type\":\"contour\",\"colorbar\":{\"outlinewidth\":0,\"ticks\":\"\"},\"colorscale\":[[0.0,\"#0d0887\"],[0.1111111111111111,\"#46039f\"],[0.2222222222222222,\"#7201a8\"],[0.3333333333333333,\"#9c179e\"],[0.4444444444444444,\"#bd3786\"],[0.5555555555555556,\"#d8576b\"],[0.6666666666666666,\"#ed7953\"],[0.7777777777777778,\"#fb9f3a\"],[0.8888888888888888,\"#fdca26\"],[1.0,\"#f0f921\"]]}],\"surface\":[{\"type\":\"surface\",\"colorbar\":{\"outlinewidth\":0,\"ticks\":\"\"},\"colorscale\":[[0.0,\"#0d0887\"],[0.1111111111111111,\"#46039f\"],[0.2222222222222222,\"#7201a8\"],[0.3333333333333333,\"#9c179e\"],[0.4444444444444444,\"#bd3786\"],[0.5555555555555556,\"#d8576b\"],[0.6666666666666666,\"#ed7953\"],[0.7777777777777778,\"#fb9f3a\"],[0.8888888888888888,\"#fdca26\"],[1.0,\"#f0f921\"]]}],\"mesh3d\":[{\"type\":\"mesh3d\",\"colorbar\":{\"outlinewidth\":0,\"ticks\":\"\"}}],\"scatter\":[{\"fillpattern\":{\"fillmode\":\"overlay\",\"size\":10,\"solidity\":0.2},\"type\":\"scatter\"}],\"parcoords\":[{\"type\":\"parcoords\",\"line\":{\"colorbar\":{\"outlinewidth\":0,\"ticks\":\"\"}}}],\"scatterpolargl\":[{\"type\":\"scatterpolargl\",\"marker\":{\"colorbar\":{\"outlinewidth\":0,\"ticks\":\"\"}}}],\"bar\":[{\"error_x\":{\"color\":\"#2a3f5f\"},\"error_y\":{\"color\":\"#2a3f5f\"},\"marker\":{\"line\":{\"color\":\"#E5ECF6\",\"width\":0.5},\"pattern\":{\"fillmode\":\"overlay\",\"size\":10,\"solidity\":0.2}},\"type\":\"bar\"}],\"scattergeo\":[{\"type\":\"scattergeo\",\"marker\":{\"colorbar\":{\"outlinewidth\":0,\"ticks\":\"\"}}}],\"scatterpolar\":[{\"type\":\"scatterpolar\",\"marker\":{\"colorbar\":{\"outlinewidth\":0,\"ticks\":\"\"}}}],\"histogram\":[{\"marker\":{\"pattern\":{\"fillmode\":\"overlay\",\"size\":10,\"solidity\":0.2}},\"type\":\"histogram\"}],\"scattergl\":[{\"type\":\"scattergl\",\"marker\":{\"colorbar\":{\"outlinewidth\":0,\"ticks\":\"\"}}}],\"scatter3d\":[{\"type\":\"scatter3d\",\"line\":{\"colorbar\":{\"outlinewidth\":0,\"ticks\":\"\"}},\"marker\":{\"colorbar\":{\"outlinewidth\":0,\"ticks\":\"\"}}}],\"scattermapbox\":[{\"type\":\"scattermapbox\",\"marker\":{\"colorbar\":{\"outlinewidth\":0,\"ticks\":\"\"}}}],\"scatterternary\":[{\"type\":\"scatterternary\",\"marker\":{\"colorbar\":{\"outlinewidth\":0,\"ticks\":\"\"}}}],\"scattercarpet\":[{\"type\":\"scattercarpet\",\"marker\":{\"colorbar\":{\"outlinewidth\":0,\"ticks\":\"\"}}}],\"carpet\":[{\"aaxis\":{\"endlinecolor\":\"#2a3f5f\",\"gridcolor\":\"white\",\"linecolor\":\"white\",\"minorgridcolor\":\"white\",\"startlinecolor\":\"#2a3f5f\"},\"baxis\":{\"endlinecolor\":\"#2a3f5f\",\"gridcolor\":\"white\",\"linecolor\":\"white\",\"minorgridcolor\":\"white\",\"startlinecolor\":\"#2a3f5f\"},\"type\":\"carpet\"}],\"table\":[{\"cells\":{\"fill\":{\"color\":\"#EBF0F8\"},\"line\":{\"color\":\"white\"}},\"header\":{\"fill\":{\"color\":\"#C8D4E3\"},\"line\":{\"color\":\"white\"}},\"type\":\"table\"}],\"barpolar\":[{\"marker\":{\"line\":{\"color\":\"#E5ECF6\",\"width\":0.5},\"pattern\":{\"fillmode\":\"overlay\",\"size\":10,\"solidity\":0.2}},\"type\":\"barpolar\"}],\"pie\":[{\"automargin\":true,\"type\":\"pie\"}]},\"layout\":{\"autotypenumbers\":\"strict\",\"colorway\":[\"#636efa\",\"#EF553B\",\"#00cc96\",\"#ab63fa\",\"#FFA15A\",\"#19d3f3\",\"#FF6692\",\"#B6E880\",\"#FF97FF\",\"#FECB52\"],\"font\":{\"color\":\"#2a3f5f\"},\"hovermode\":\"closest\",\"hoverlabel\":{\"align\":\"left\"},\"paper_bgcolor\":\"white\",\"plot_bgcolor\":\"#E5ECF6\",\"polar\":{\"bgcolor\":\"#E5ECF6\",\"angularaxis\":{\"gridcolor\":\"white\",\"linecolor\":\"white\",\"ticks\":\"\"},\"radialaxis\":{\"gridcolor\":\"white\",\"linecolor\":\"white\",\"ticks\":\"\"}},\"ternary\":{\"bgcolor\":\"#E5ECF6\",\"aaxis\":{\"gridcolor\":\"white\",\"linecolor\":\"white\",\"ticks\":\"\"},\"baxis\":{\"gridcolor\":\"white\",\"linecolor\":\"white\",\"ticks\":\"\"},\"caxis\":{\"gridcolor\":\"white\",\"linecolor\":\"white\",\"ticks\":\"\"}},\"coloraxis\":{\"colorbar\":{\"outlinewidth\":0,\"ticks\":\"\"}},\"colorscale\":{\"sequential\":[[0.0,\"#0d0887\"],[0.1111111111111111,\"#46039f\"],[0.2222222222222222,\"#7201a8\"],[0.3333333333333333,\"#9c179e\"],[0.4444444444444444,\"#bd3786\"],[0.5555555555555556,\"#d8576b\"],[0.6666666666666666,\"#ed7953\"],[0.7777777777777778,\"#fb9f3a\"],[0.8888888888888888,\"#fdca26\"],[1.0,\"#f0f921\"]],\"sequentialminus\":[[0.0,\"#0d0887\"],[0.1111111111111111,\"#46039f\"],[0.2222222222222222,\"#7201a8\"],[0.3333333333333333,\"#9c179e\"],[0.4444444444444444,\"#bd3786\"],[0.5555555555555556,\"#d8576b\"],[0.6666666666666666,\"#ed7953\"],[0.7777777777777778,\"#fb9f3a\"],[0.8888888888888888,\"#fdca26\"],[1.0,\"#f0f921\"]],\"diverging\":[[0,\"#8e0152\"],[0.1,\"#c51b7d\"],[0.2,\"#de77ae\"],[0.3,\"#f1b6da\"],[0.4,\"#fde0ef\"],[0.5,\"#f7f7f7\"],[0.6,\"#e6f5d0\"],[0.7,\"#b8e186\"],[0.8,\"#7fbc41\"],[0.9,\"#4d9221\"],[1,\"#276419\"]]},\"xaxis\":{\"gridcolor\":\"white\",\"linecolor\":\"white\",\"ticks\":\"\",\"title\":{\"standoff\":15},\"zerolinecolor\":\"white\",\"automargin\":true,\"zerolinewidth\":2},\"yaxis\":{\"gridcolor\":\"white\",\"linecolor\":\"white\",\"ticks\":\"\",\"title\":{\"standoff\":15},\"zerolinecolor\":\"white\",\"automargin\":true,\"zerolinewidth\":2},\"scene\":{\"xaxis\":{\"backgroundcolor\":\"#E5ECF6\",\"gridcolor\":\"white\",\"linecolor\":\"white\",\"showbackground\":true,\"ticks\":\"\",\"zerolinecolor\":\"white\",\"gridwidth\":2},\"yaxis\":{\"backgroundcolor\":\"#E5ECF6\",\"gridcolor\":\"white\",\"linecolor\":\"white\",\"showbackground\":true,\"ticks\":\"\",\"zerolinecolor\":\"white\",\"gridwidth\":2},\"zaxis\":{\"backgroundcolor\":\"#E5ECF6\",\"gridcolor\":\"white\",\"linecolor\":\"white\",\"showbackground\":true,\"ticks\":\"\",\"zerolinecolor\":\"white\",\"gridwidth\":2}},\"shapedefaults\":{\"line\":{\"color\":\"#2a3f5f\"}},\"annotationdefaults\":{\"arrowcolor\":\"#2a3f5f\",\"arrowhead\":0,\"arrowwidth\":1},\"geo\":{\"bgcolor\":\"white\",\"landcolor\":\"#E5ECF6\",\"subunitcolor\":\"white\",\"showland\":true,\"showlakes\":true,\"lakecolor\":\"white\"},\"title\":{\"x\":0.05},\"mapbox\":{\"style\":\"light\"}}},\"geo\":{\"lataxis\":{\"showgrid\":true,\"gridcolor\":\"black\"},\"lonaxis\":{\"showgrid\":true,\"gridcolor\":\"black\"},\"showcoastlines\":true,\"coastlinecolor\":\"Black\",\"showland\":true,\"landcolor\":\"#9fc164\",\"showocean\":true,\"oceancolor\":\"#b2d9ff\",\"showlakes\":false,\"showrivers\":false},\"title\":{\"text\":\"International Space Station groundtrack\"}},                        {\"responsive\": true}                    ).then(function(){\n",
       "                            \n",
       "var gd = document.getElementById('3c632e24-d1de-4a32-89e3-36074b2a746a');\n",
       "var x = new MutationObserver(function (mutations, observer) {{\n",
       "        var display = window.getComputedStyle(gd).display;\n",
       "        if (!display || display === 'none') {{\n",
       "            console.log([gd, 'removed!']);\n",
       "            Plotly.purge(gd);\n",
       "            observer.disconnect();\n",
       "        }}\n",
       "}});\n",
       "\n",
       "// Listen for the removal of the full notebook cells\n",
       "var notebookContainer = gd.closest('#notebook-container');\n",
       "if (notebookContainer) {{\n",
       "    x.observe(notebookContainer, {childList: true});\n",
       "}}\n",
       "\n",
       "// Listen for the clearing of the current output cell\n",
       "var outputEl = gd.closest('.output');\n",
       "if (outputEl) {{\n",
       "    x.observe(outputEl, {childList: true});\n",
       "}}\n",
       "\n",
       "                        })                };                });            </script>        </div>"
      ]
     },
     "metadata": {},
     "output_type": "display_data"
    }
   ],
   "source": [
    "# For building geo traces\n",
    "import plotly.graph_objects as go\n",
    "\n",
    "# Position in [LAT LON]\n",
    "STATION = [40.416729, -3.703339] * u.deg\n",
    "\n",
    "# Let us add a new trace in original figure\n",
    "gp.add_trace(\n",
    "    go.Scattergeo(\n",
    "        lat=STATION[0],\n",
    "        lon=STATION[-1],\n",
    "        name=\"Madrid\",\n",
    "        marker={\"color\": \"blue\"},\n",
    "    )\n",
    ")\n",
    "gp.fig.show()\n"
   ]
  },
  {
   "cell_type": "code",
   "execution_count": 13,
   "id": "4d3c781d-c92b-4e2d-91a5-dc7a61d97979",
   "metadata": {
    "tags": []
   },
   "outputs": [
    {
     "data": {
      "application/vnd.plotly.v1+json": {
       "config": {
        "plotlyServerURL": "https://plot.ly"
       },
       "data": [
        {
         "type": "scattergeo"
        },
        {
         "lat": [
          51.23769652459603,
          50.87517705025481,
          50.398746774033704,
          49.81259075413022,
          49.12158656093682,
          48.33113076632561,
          47.44696805683605,
          46.47503294411794,
          45.42131092457418,
          44.29172282049724,
          43.092033347736766,
          41.827782921982106,
          40.50424038064802,
          39.1263735838955,
          37.69883463059537,
          36.225956534106736,
          34.71175851532904,
          33.15995748208504,
          31.573983700940722,
          29.95699908378773,
          28.31191688162505,
          26.641421891551456,
          24.94799053895533,
          23.233910399669533,
          21.50129888334362,
          19.752120917232826,
          17.98820555645085,
          16.211261509201087,
          14.422891609225116,
          12.624606297386162,
          10.817836193620677,
          9.003943852411014,
          7.184234801636252,
          5.359967967896999,
          3.532365592394642,
          1.7026227411680992,
          -0.1280834874391154,
          -1.9585849562635407,
          -3.7877135828582214,
          -5.6142924327070185,
          -7.437126711842658,
          -9.254994558249479,
          -11.066637530729174,
          -12.870750693094111,
          -14.665972190905107,
          -16.450872218035155,
          -18.223941271747076,
          -19.983577598727187,
          -21.728073741852878,
          -23.455602110155453,
          -25.16419951467885,
          -26.851750643712204,
          -28.515970495858745,
          -30.154385853294233,
          -31.764315965942725,
          -33.34285273677437,
          -34.88684085624963,
          -36.39285853756685,
          -37.857199760251746,
          -39.27585924151593,
          -40.64452172075908,
          -41.958557551102224,
          -43.21302701641155,
          -44.40269618550331,
          -45.52206740285856,
          -46.565427593145145,
          -47.52691729409353,
          -48.40062258484754,
          -49.180690717033,
          -49.86146821829443,
          -50.43765757852395,
          -50.90448557879016,
          -51.257873314344295,
          -51.49459559462084,
          -51.61241632557125,
          -51.61018721321113,
          -51.48789986270391,
          -51.24668581294348,
          -50.88876451669119,
          -50.417344743585105,
          -49.836489341439055,
          -49.15095601689214,
          -48.36602752086135,
          -47.48734354048629,
          -46.52074422858411,
          -45.472132294517586,
          -44.34735753420153,
          -43.1521250226199,
          -41.89192615972705,
          -40.57199040479701,
          -39.197254789587106,
          -37.772348039419164,
          -36.30158620965518,
          -34.78897703236764,
          -33.23823056046536,
          -31.652774120158494,
          -30.035769990153728,
          -28.390134591019468,
          -26.71855827925577,
          -25.023525095868983,
          -23.307332022383992,
          -21.572107454706764,
          -19.819828724474704,
          -18.052338585767757,
          -16.271360648847217,
          -14.478513787562266,
          -12.675325577843259,
          -10.863244844997714,
          -9.043653410263337,
          -7.217877134502116,
          -5.387196360759978,
          -3.552855858939759,
          -1.7160743759914527,
          0.12194610549863613,
          1.9600112981576703,
          3.7969256285424158,
          5.631483242416068,
          7.4624588951249216,
          9.288598625038691,
          11.108610107157753,
          12.921152583020826,
          14.72482626236126,
          16.518161092035108,
          18.299604789364857,
          20.067510041151067,
          21.820120777639058,
          23.55555744445404,
          25.2718012173986,
          26.966677138088187,
          28.637836196701098,
          30.282736456504846,
          31.898623409284998,
          33.48250987819044,
          35.03115595247003,
          36.541049654678545,
          38.00838931166423,
          39.42906892917998,
          40.79866825322726,
          42.11244962535877,
          43.36536417396318,
          44.55207027600847,
          45.666967492365806,
          46.704249212030675,
          47.65797689724207,
          48.52217795386136,
          49.29096773441145,
          49.958693964559004,
          50.5200990535181,
          50.970492581193675,
          51.30592323385842,
          51.52333722709053,
          51.6207094738305,
          51.59713491492528,
          51.45287064014971,
          51.18932430782933,
          50.80899009029459,
          50.31533886116422,
          49.712673595736774,
          49.005963318938406,
          48.20066923669515,
          47.302575217010336,
          46.31763213530408,
          45.251822441321224,
          44.11104822914774,
          42.90104349614515,
          41.6273093522328,
          40.29506970888533,
          38.909244348334205,
          37.474436107280596,
          35.99492905792299,
          34.47469490301502,
          32.91740522122482,
          31.326447635328922,
          29.704944386078694,
          28.055772156359552,
          26.381582294829858,
          24.68482083564724,
          22.967747905998,
          21.232456263214633,
          19.480888815919954,
          17.71485506632639,
          15.936046470035556,
          14.146050750979663,
          12.346365236980319,
          10.538409299431825,
          8.723535991577547,
          6.903042985929426,
          5.078182914198446,
          3.250173213835268,
          1.4202055848681154,
          -0.4105448402468627,
          -2.2409105121147697,
          -4.069722564426755,
          -5.895801898198489,
          -7.717950149925487,
          -9.534940442934936,
          -11.345507820503267,
          -13.148339258472298,
          -14.94206315453184,
          -16.725238191561896,
          -18.49634147411991,
          -20.25375584137233,
          -21.99575626781445,
          -23.720495276792676,
          -25.425987313521595,
          -27.110092056971848,
          -28.77049669758822,
          -30.404697275077506,
          -32.00997926321954,
          -33.58339771356407,
          -35.12175743429212,
          -36.6215938918207,
          -38.0791557871349,
          -39.49039057935072,
          -40.850934602598876,
          -42.15610983548992,
          -43.40092980585967,
          -44.58011749600796,
          -45.68813837648578,
          -46.71925173097146,
          -47.66758310667734,
          -48.52721989017503,
          -49.29233054604046,
          -49.957305914782395,
          -50.51691822664189,
          -50.96649041090554,
          -51.302065328430324,
          -51.52056234424094,
          -51.61990783106017,
          -51.599127235216564,
          -51.45838936882148,
          -51.19899826988073,
          -50.823333510907375,
          -50.33474520964433,
          -49.73741422329394,
          -49.0361904297206,
          -48.236422421596785,
          -47.343790617504006,
          -46.364153282196376,
          -45.30341189939808,
          -44.167399331689644,
          -42.961791633543214,
          -41.692042455606135,
          -40.363337723298486,
          -38.98056761186032,
          -37.54831264042188,
          -36.070840826227915,
          -34.55211314971125,
          -32.99579498246822,
          -31.405271553828012,
          -29.78366593391613,
          -28.13385836831713,
          -26.45850610184598,
          -24.76006307582853,
          -23.040799078916898,
          -21.30281808255692,
          -19.548075606198903,
          -17.778395041421156,
          -15.99548292465633,
          -14.200943190743645,
          -12.396290468455543,
          -10.582962498107673,
          -8.762331763151604,
          -6.935716434426961,
          -5.1043907291477035,
          -3.2695947879787735,
          -1.4325441735382276,
          0.405560906888212,
          2.2435265523680097,
          4.080156191572979,
          5.914241576958579,
          7.744553648343139,
          9.569833163746058,
          11.388780994416011,
          13.200047980072538,
          15.002224239736702,
          16.793827833813626,
          18.57329267500395,
          20.338955590245362,
          22.089042444660244,
          23.821653253309155,
          25.534746229906332,
          27.22612075684488,
          28.89339931189444,
          30.534008458953345,
          32.14515910929478,
          33.723826392900655,
          35.26672965436532,
          36.770313312035945,
          38.23072959859208,
          39.64382453867166,
          41.005128909959716,
          42.30985636238348,
          43.552911302442084,
          44.728909529139884,
          45.832214848267306,
          46.85699487563025,
          47.79729882518883,
          48.647159117212944,
          49.40071701724383
         ],
         "line": {
          "color": "red"
         },
         "lon": [
          324.493120015839,
          328.02574635185886,
          331.4923659964341,
          334.87850829698067,
          338.1722485014637,
          341.36433017431034,
          344.44812998570416,
          347.4194963432027,
          350.27649913290963,
          353.01912738331765,
          355.6489668683334,
          358.16888260905836,
          0.5827236624439968,
          2.8950606841119066,
          5.110961146519852,
          7.2358029661890075,
          9.275124547034471,
          11.234507639768829,
          13.119488667519978,
          14.935494009751505,
          16.687794951865946,
          18.381478430857126,
          20.021430222727112,
          21.61232774920172,
          23.15864018510285,
          24.664633999632446,
          26.13438245550335,
          27.571777918379478,
          28.98054609969788,
          30.364261575111566,
          31.726364095730624,
          33.07017534746622,
          34.398915921370005,
          35.715722340910986,
          37.0236640551679,
          38.325760354090946,
          39.62499719611691,
          40.92434396207885,
          42.22677016403947,
          43.53526214456144,
          44.85283980142547,
          46.182573365091656,
          47.527600240450354,
          48.89114189979514,
          50.276520778626285,
          51.68717707752109,
          53.126685308823376,
          54.598770342466196,
          56.107322595933454,
          57.65641187371517,
          59.2502991850296,
          60.89344564819056,
          62.590517318651564,
          64.34638444957051,
          66.16611330510035,
          68.05494819939109,
          70.01828093906394,
          72.06160432901429,
          74.19044590743333,
          76.41027768332115,
          78.72639747578323,
          81.14377766498257,
          83.66687797691316,
          86.29942059793808,
          89.04412872218424,
          91.90243379835427,
          94.87416233514372,
          97.95721993198947,
          101.14729757270217,
          104.43763195514096,
          107.81885600244661,
          111.27897569091229,
          114.80350313748983,
          118.375762662779,
          121.97736709042654,
          125.58883867729911,
          129.19032726803408,
          132.76236254057548,
          136.28657150596908,
          139.74629823783496,
          143.12707861452103,
          146.4169446923905,
          149.60655618169025,
          152.68917590145895,
          155.6605192497851,
          158.51851385188618,
          161.26300550701575,
          163.8954421505153,
          166.41856079806908,
          168.83609506904443,
          171.1525140877152,
          173.37279798191062,
          175.50225104902728,
          177.54635086431986,
          179.51062994233018,
          181.40058575700252,
          183.22161472019613,
          184.97896589509148,
          186.67771061512582,
          188.3227246736305,
          189.91868026721,
          191.47004537082842,
          192.98108866923477,
          194.4558885574534,
          195.89834505071548,
          197.31219371503312,
          198.70102094953833,
          200.06828012794566,
          201.4173082457605,
          202.75134282885358,
          204.07353894317606,
          205.3869862095834,
          206.69472577574314,
          207.99976723205071,
          209.30510548268083,
          210.61373759794546,
          211.9286796811489,
          213.25298378260302,
          214.58975488525752,
          215.9421679699561,
          217.31348514254032,
          218.70707276788445,
          220.12641850518827,
          221.57514807105957,
          223.0570414680345,
          224.57604830115892,
          226.13630165824384,
          227.74212984347253,
          229.39806502212122,
          231.1088475488827,
          232.87942440766216,
          234.71493978356406,
          236.62071532090283,
          238.60221710682924,
          240.66500588722658,
          242.81466652163996,
          245.0567123024849,
          247.39645962824895,
          249.83886881049457,
          252.38834774228852,
          255.04851703483413,
          257.82193831865294,
          260.70981192056723,
          263.7116561067041,
          266.8249872403086,
          270.04502777855237,
          273.36447568478854,
          276.7733726951169,
          280.2591078526455,
          283.8065850623598,
          287.39856850396484,
          291.01619878179815,
          294.63964898475075,
          298.24886823066635,
          301.8243458847187,
          305.3478261494578,
          308.8029110476624,
          312.17550777765155,
          315.45409954093265,
          318.62984202553616,
          321.69650645109823,
          324.6503020029515,
          327.4896152186889,
          330.21470262999753,
          332.8273676854032,
          335.3306457422009,
          337.7285133854935,
          340.0256316033185,
          342.2271269657325,
          344.33841105278304,
          346.3650358230856,
          348.31258115851796,
          350.18657017824125,
          351.99240782781055,
          353.73533850589246,
          355.42041893481894,
          357.0525030030034,
          358.6362358372118,
          0.17605485947795468,
          1.676196026298109,
          3.140703828712477,
          4.573443951134051,
          5.978117748980686,
          7.358277917022282,
          8.717344889204073,
          10.058623643618606,
          11.38532068987765,
          12.700561095681266,
          14.007405469844853,
          15.308866863936538,
          16.607927587138875,
          17.90755595105639,
          19.210722974672933,
          20.520419085355236,
          21.839670850223,
          23.171557763259536,
          24.51922909655636,
          25.88592079792918,
          27.274972379922772,
          28.689843694686015,
          30.134131421827377,
          31.61158500844735,
          33.126121686957994,
          34.681840051364496,
          36.28303148982931,
          37.9341885435174,
          39.640008981956974,
          41.40539404777731,
          43.23543892571272,
          45.13541303514525,
          47.11072724464924,
          49.16688458908152,
          51.30941058550452,
          53.543758876520855,
          55.875187802879246,
          58.30860379517869,
          60.848368401988544,
          63.498067602896995,
          66.26024505933172,
          69.13610534061037,
          72.12519896599395,
          75.22510805339088,
          78.43115873064022,
          81.73619296049347,
          85.13043626001352,
          88.60149693367518,
          92.13452518325138,
          95.71254616780436,
          99.31696087220912,
          102.92818561860057,
          106.52637987210149,
          110.09219760244237,
          113.6074935137974,
          117.05592298197209,
          120.42339157964621,
          123.69833239327775,
          126.87181191511169,
          129.93748386715575,
          132.89142239170954,
          135.73187112841748,
          138.4589438525744,
          141.07430745402579,
          143.5808710905726,
          145.98249800433345,
          148.28374984998558,
          150.48966802022474,
          152.60559252331632,
          154.63701636379474,
          156.58947186378398,
          158.46844466563613,
          160.27931102269753,
          162.02729420475774,
          163.7174362609685,
          165.35458188520468,
          166.94337164564598,
          168.48824232898048,
          169.99343258771006,
          171.46299245771002,
          172.90079563179415,
          174.31055363755934,
          175.69583128051465,
          177.0600628835362,
          178.40656898795584,
          179.73857328636626,
          181.05921963798755,
          182.3715890789851,
          183.6787167858548,
          184.9836089832138,
          186.2892598099773,
          187.59866817171542,
          188.91485461275795,
          190.24087823997897,
          191.579853720707,
          192.93496835947505,
          194.30949923086823,
          195.70683030670767,
          197.1304694626157,
          198.58406517829164,
          200.07142265323705,
          201.59651894012427,
          203.16351654543817,
          204.77677475448098,
          206.44085769816857,
          208.16053788487636,
          209.94079356653165,
          211.78679789135168,
          213.7038973202965,
          215.6975762648429,
          217.77340437175744,
          219.93696239238855,
          222.19374222086734,
          224.5490166027049,
          227.0076743904167,
          229.57401829577813,
          232.25152413657992,
          235.04256387417482,
          237.94809948258708,
          240.96736087982168,
          244.09752843846718,
          247.33344812788684
         ],
         "mode": "lines",
         "name": "ISS",
         "type": "scattergeo"
        },
        {
         "lat": [
          51.42953428309302
         ],
         "lon": [
          285.59816127653147
         ],
         "marker": {
          "color": "red",
          "line": {
           "color": "black",
           "width": 1
          },
          "size": 10,
          "symbol": "triangle-right"
         },
         "name": "ISS",
         "showlegend": false,
         "type": "scattergeo"
        },
        {
         "lat": [
          40.416729
         ],
         "lon": [
          -3.703339
         ],
         "marker": {
          "color": "blue"
         },
         "name": "Madrid",
         "type": "scattergeo"
        }
       ],
       "layout": {
        "autosize": true,
        "geo": {
         "coastlinecolor": "Black",
         "landcolor": "#9fc164",
         "lataxis": {
          "gridcolor": "black",
          "showgrid": true
         },
         "lonaxis": {
          "gridcolor": "black",
          "showgrid": true
         },
         "oceancolor": "#b2d9ff",
         "projection": {
          "type": "orthographic"
         },
         "showcoastlines": true,
         "showlakes": false,
         "showland": true,
         "showocean": true,
         "showrivers": false
        },
        "template": {
         "data": {
          "bar": [
           {
            "error_x": {
             "color": "#2a3f5f"
            },
            "error_y": {
             "color": "#2a3f5f"
            },
            "marker": {
             "line": {
              "color": "#E5ECF6",
              "width": 0.5
             },
             "pattern": {
              "fillmode": "overlay",
              "size": 10,
              "solidity": 0.2
             }
            },
            "type": "bar"
           }
          ],
          "barpolar": [
           {
            "marker": {
             "line": {
              "color": "#E5ECF6",
              "width": 0.5
             },
             "pattern": {
              "fillmode": "overlay",
              "size": 10,
              "solidity": 0.2
             }
            },
            "type": "barpolar"
           }
          ],
          "carpet": [
           {
            "aaxis": {
             "endlinecolor": "#2a3f5f",
             "gridcolor": "white",
             "linecolor": "white",
             "minorgridcolor": "white",
             "startlinecolor": "#2a3f5f"
            },
            "baxis": {
             "endlinecolor": "#2a3f5f",
             "gridcolor": "white",
             "linecolor": "white",
             "minorgridcolor": "white",
             "startlinecolor": "#2a3f5f"
            },
            "type": "carpet"
           }
          ],
          "choropleth": [
           {
            "colorbar": {
             "outlinewidth": 0,
             "ticks": ""
            },
            "type": "choropleth"
           }
          ],
          "contour": [
           {
            "colorbar": {
             "outlinewidth": 0,
             "ticks": ""
            },
            "colorscale": [
             [
              0,
              "#0d0887"
             ],
             [
              0.1111111111111111,
              "#46039f"
             ],
             [
              0.2222222222222222,
              "#7201a8"
             ],
             [
              0.3333333333333333,
              "#9c179e"
             ],
             [
              0.4444444444444444,
              "#bd3786"
             ],
             [
              0.5555555555555556,
              "#d8576b"
             ],
             [
              0.6666666666666666,
              "#ed7953"
             ],
             [
              0.7777777777777778,
              "#fb9f3a"
             ],
             [
              0.8888888888888888,
              "#fdca26"
             ],
             [
              1,
              "#f0f921"
             ]
            ],
            "type": "contour"
           }
          ],
          "contourcarpet": [
           {
            "colorbar": {
             "outlinewidth": 0,
             "ticks": ""
            },
            "type": "contourcarpet"
           }
          ],
          "heatmap": [
           {
            "colorbar": {
             "outlinewidth": 0,
             "ticks": ""
            },
            "colorscale": [
             [
              0,
              "#0d0887"
             ],
             [
              0.1111111111111111,
              "#46039f"
             ],
             [
              0.2222222222222222,
              "#7201a8"
             ],
             [
              0.3333333333333333,
              "#9c179e"
             ],
             [
              0.4444444444444444,
              "#bd3786"
             ],
             [
              0.5555555555555556,
              "#d8576b"
             ],
             [
              0.6666666666666666,
              "#ed7953"
             ],
             [
              0.7777777777777778,
              "#fb9f3a"
             ],
             [
              0.8888888888888888,
              "#fdca26"
             ],
             [
              1,
              "#f0f921"
             ]
            ],
            "type": "heatmap"
           }
          ],
          "heatmapgl": [
           {
            "colorbar": {
             "outlinewidth": 0,
             "ticks": ""
            },
            "colorscale": [
             [
              0,
              "#0d0887"
             ],
             [
              0.1111111111111111,
              "#46039f"
             ],
             [
              0.2222222222222222,
              "#7201a8"
             ],
             [
              0.3333333333333333,
              "#9c179e"
             ],
             [
              0.4444444444444444,
              "#bd3786"
             ],
             [
              0.5555555555555556,
              "#d8576b"
             ],
             [
              0.6666666666666666,
              "#ed7953"
             ],
             [
              0.7777777777777778,
              "#fb9f3a"
             ],
             [
              0.8888888888888888,
              "#fdca26"
             ],
             [
              1,
              "#f0f921"
             ]
            ],
            "type": "heatmapgl"
           }
          ],
          "histogram": [
           {
            "marker": {
             "pattern": {
              "fillmode": "overlay",
              "size": 10,
              "solidity": 0.2
             }
            },
            "type": "histogram"
           }
          ],
          "histogram2d": [
           {
            "colorbar": {
             "outlinewidth": 0,
             "ticks": ""
            },
            "colorscale": [
             [
              0,
              "#0d0887"
             ],
             [
              0.1111111111111111,
              "#46039f"
             ],
             [
              0.2222222222222222,
              "#7201a8"
             ],
             [
              0.3333333333333333,
              "#9c179e"
             ],
             [
              0.4444444444444444,
              "#bd3786"
             ],
             [
              0.5555555555555556,
              "#d8576b"
             ],
             [
              0.6666666666666666,
              "#ed7953"
             ],
             [
              0.7777777777777778,
              "#fb9f3a"
             ],
             [
              0.8888888888888888,
              "#fdca26"
             ],
             [
              1,
              "#f0f921"
             ]
            ],
            "type": "histogram2d"
           }
          ],
          "histogram2dcontour": [
           {
            "colorbar": {
             "outlinewidth": 0,
             "ticks": ""
            },
            "colorscale": [
             [
              0,
              "#0d0887"
             ],
             [
              0.1111111111111111,
              "#46039f"
             ],
             [
              0.2222222222222222,
              "#7201a8"
             ],
             [
              0.3333333333333333,
              "#9c179e"
             ],
             [
              0.4444444444444444,
              "#bd3786"
             ],
             [
              0.5555555555555556,
              "#d8576b"
             ],
             [
              0.6666666666666666,
              "#ed7953"
             ],
             [
              0.7777777777777778,
              "#fb9f3a"
             ],
             [
              0.8888888888888888,
              "#fdca26"
             ],
             [
              1,
              "#f0f921"
             ]
            ],
            "type": "histogram2dcontour"
           }
          ],
          "mesh3d": [
           {
            "colorbar": {
             "outlinewidth": 0,
             "ticks": ""
            },
            "type": "mesh3d"
           }
          ],
          "parcoords": [
           {
            "line": {
             "colorbar": {
              "outlinewidth": 0,
              "ticks": ""
             }
            },
            "type": "parcoords"
           }
          ],
          "pie": [
           {
            "automargin": true,
            "type": "pie"
           }
          ],
          "scatter": [
           {
            "fillpattern": {
             "fillmode": "overlay",
             "size": 10,
             "solidity": 0.2
            },
            "type": "scatter"
           }
          ],
          "scatter3d": [
           {
            "line": {
             "colorbar": {
              "outlinewidth": 0,
              "ticks": ""
             }
            },
            "marker": {
             "colorbar": {
              "outlinewidth": 0,
              "ticks": ""
             }
            },
            "type": "scatter3d"
           }
          ],
          "scattercarpet": [
           {
            "marker": {
             "colorbar": {
              "outlinewidth": 0,
              "ticks": ""
             }
            },
            "type": "scattercarpet"
           }
          ],
          "scattergeo": [
           {
            "marker": {
             "colorbar": {
              "outlinewidth": 0,
              "ticks": ""
             }
            },
            "type": "scattergeo"
           }
          ],
          "scattergl": [
           {
            "marker": {
             "colorbar": {
              "outlinewidth": 0,
              "ticks": ""
             }
            },
            "type": "scattergl"
           }
          ],
          "scattermapbox": [
           {
            "marker": {
             "colorbar": {
              "outlinewidth": 0,
              "ticks": ""
             }
            },
            "type": "scattermapbox"
           }
          ],
          "scatterpolar": [
           {
            "marker": {
             "colorbar": {
              "outlinewidth": 0,
              "ticks": ""
             }
            },
            "type": "scatterpolar"
           }
          ],
          "scatterpolargl": [
           {
            "marker": {
             "colorbar": {
              "outlinewidth": 0,
              "ticks": ""
             }
            },
            "type": "scatterpolargl"
           }
          ],
          "scatterternary": [
           {
            "marker": {
             "colorbar": {
              "outlinewidth": 0,
              "ticks": ""
             }
            },
            "type": "scatterternary"
           }
          ],
          "surface": [
           {
            "colorbar": {
             "outlinewidth": 0,
             "ticks": ""
            },
            "colorscale": [
             [
              0,
              "#0d0887"
             ],
             [
              0.1111111111111111,
              "#46039f"
             ],
             [
              0.2222222222222222,
              "#7201a8"
             ],
             [
              0.3333333333333333,
              "#9c179e"
             ],
             [
              0.4444444444444444,
              "#bd3786"
             ],
             [
              0.5555555555555556,
              "#d8576b"
             ],
             [
              0.6666666666666666,
              "#ed7953"
             ],
             [
              0.7777777777777778,
              "#fb9f3a"
             ],
             [
              0.8888888888888888,
              "#fdca26"
             ],
             [
              1,
              "#f0f921"
             ]
            ],
            "type": "surface"
           }
          ],
          "table": [
           {
            "cells": {
             "fill": {
              "color": "#EBF0F8"
             },
             "line": {
              "color": "white"
             }
            },
            "header": {
             "fill": {
              "color": "#C8D4E3"
             },
             "line": {
              "color": "white"
             }
            },
            "type": "table"
           }
          ]
         },
         "layout": {
          "annotationdefaults": {
           "arrowcolor": "#2a3f5f",
           "arrowhead": 0,
           "arrowwidth": 1
          },
          "autotypenumbers": "strict",
          "coloraxis": {
           "colorbar": {
            "outlinewidth": 0,
            "ticks": ""
           }
          },
          "colorscale": {
           "diverging": [
            [
             0,
             "#8e0152"
            ],
            [
             0.1,
             "#c51b7d"
            ],
            [
             0.2,
             "#de77ae"
            ],
            [
             0.3,
             "#f1b6da"
            ],
            [
             0.4,
             "#fde0ef"
            ],
            [
             0.5,
             "#f7f7f7"
            ],
            [
             0.6,
             "#e6f5d0"
            ],
            [
             0.7,
             "#b8e186"
            ],
            [
             0.8,
             "#7fbc41"
            ],
            [
             0.9,
             "#4d9221"
            ],
            [
             1,
             "#276419"
            ]
           ],
           "sequential": [
            [
             0,
             "#0d0887"
            ],
            [
             0.1111111111111111,
             "#46039f"
            ],
            [
             0.2222222222222222,
             "#7201a8"
            ],
            [
             0.3333333333333333,
             "#9c179e"
            ],
            [
             0.4444444444444444,
             "#bd3786"
            ],
            [
             0.5555555555555556,
             "#d8576b"
            ],
            [
             0.6666666666666666,
             "#ed7953"
            ],
            [
             0.7777777777777778,
             "#fb9f3a"
            ],
            [
             0.8888888888888888,
             "#fdca26"
            ],
            [
             1,
             "#f0f921"
            ]
           ],
           "sequentialminus": [
            [
             0,
             "#0d0887"
            ],
            [
             0.1111111111111111,
             "#46039f"
            ],
            [
             0.2222222222222222,
             "#7201a8"
            ],
            [
             0.3333333333333333,
             "#9c179e"
            ],
            [
             0.4444444444444444,
             "#bd3786"
            ],
            [
             0.5555555555555556,
             "#d8576b"
            ],
            [
             0.6666666666666666,
             "#ed7953"
            ],
            [
             0.7777777777777778,
             "#fb9f3a"
            ],
            [
             0.8888888888888888,
             "#fdca26"
            ],
            [
             1,
             "#f0f921"
            ]
           ]
          },
          "colorway": [
           "#636efa",
           "#EF553B",
           "#00cc96",
           "#ab63fa",
           "#FFA15A",
           "#19d3f3",
           "#FF6692",
           "#B6E880",
           "#FF97FF",
           "#FECB52"
          ],
          "font": {
           "color": "#2a3f5f"
          },
          "geo": {
           "bgcolor": "white",
           "lakecolor": "white",
           "landcolor": "#E5ECF6",
           "showlakes": true,
           "showland": true,
           "subunitcolor": "white"
          },
          "hoverlabel": {
           "align": "left"
          },
          "hovermode": "closest",
          "mapbox": {
           "style": "light"
          },
          "paper_bgcolor": "white",
          "plot_bgcolor": "#E5ECF6",
          "polar": {
           "angularaxis": {
            "gridcolor": "white",
            "linecolor": "white",
            "ticks": ""
           },
           "bgcolor": "#E5ECF6",
           "radialaxis": {
            "gridcolor": "white",
            "linecolor": "white",
            "ticks": ""
           }
          },
          "scene": {
           "xaxis": {
            "backgroundcolor": "#E5ECF6",
            "gridcolor": "white",
            "gridwidth": 2,
            "linecolor": "white",
            "showbackground": true,
            "ticks": "",
            "zerolinecolor": "white"
           },
           "yaxis": {
            "backgroundcolor": "#E5ECF6",
            "gridcolor": "white",
            "gridwidth": 2,
            "linecolor": "white",
            "showbackground": true,
            "ticks": "",
            "zerolinecolor": "white"
           },
           "zaxis": {
            "backgroundcolor": "#E5ECF6",
            "gridcolor": "white",
            "gridwidth": 2,
            "linecolor": "white",
            "showbackground": true,
            "ticks": "",
            "zerolinecolor": "white"
           }
          },
          "shapedefaults": {
           "line": {
            "color": "#2a3f5f"
           }
          },
          "ternary": {
           "aaxis": {
            "gridcolor": "white",
            "linecolor": "white",
            "ticks": ""
           },
           "baxis": {
            "gridcolor": "white",
            "linecolor": "white",
            "ticks": ""
           },
           "bgcolor": "#E5ECF6",
           "caxis": {
            "gridcolor": "white",
            "linecolor": "white",
            "ticks": ""
           }
          },
          "title": {
           "x": 0.05
          },
          "xaxis": {
           "automargin": true,
           "gridcolor": "white",
           "linecolor": "white",
           "ticks": "",
           "title": {
            "standoff": 15
           },
           "zerolinecolor": "white",
           "zerolinewidth": 2
          },
          "yaxis": {
           "automargin": true,
           "gridcolor": "white",
           "linecolor": "white",
           "ticks": "",
           "title": {
            "standoff": 15
           },
           "zerolinecolor": "white",
           "zerolinewidth": 2
          }
         }
        },
        "title": {
         "text": "International Space Station groundtrack"
        }
       }
      },
      "image/png": "[encoded data removed]",
      "text/html": [
       "<div>                            <div id=\"b7223ac3-06fa-439d-81c9-dc3214f90207\" class=\"plotly-graph-div\" style=\"height:525px; width:100%;\"></div>            <script type=\"text/javascript\">                require([\"plotly\"], function(Plotly) {                    window.PLOTLYENV=window.PLOTLYENV || {};                                    if (document.getElementById(\"b7223ac3-06fa-439d-81c9-dc3214f90207\")) {                    Plotly.newPlot(                        \"b7223ac3-06fa-439d-81c9-dc3214f90207\",                        [{\"type\":\"scattergeo\"},{\"lat\":[51.23769652459603,50.87517705025481,50.398746774033704,49.81259075413022,49.12158656093682,48.33113076632561,47.44696805683605,46.47503294411794,45.42131092457418,44.29172282049724,43.092033347736766,41.827782921982106,40.50424038064802,39.1263735838955,37.69883463059537,36.225956534106736,34.71175851532904,33.15995748208504,31.573983700940722,29.95699908378773,28.31191688162505,26.641421891551456,24.94799053895533,23.233910399669533,21.50129888334362,19.752120917232826,17.98820555645085,16.211261509201087,14.422891609225116,12.624606297386162,10.817836193620677,9.003943852411014,7.184234801636252,5.359967967896999,3.532365592394642,1.7026227411680992,-0.1280834874391154,-1.9585849562635407,-3.7877135828582214,-5.6142924327070185,-7.437126711842658,-9.254994558249479,-11.066637530729174,-12.870750693094111,-14.665972190905107,-16.450872218035155,-18.223941271747076,-19.983577598727187,-21.728073741852878,-23.455602110155453,-25.16419951467885,-26.851750643712204,-28.515970495858745,-30.154385853294233,-31.764315965942725,-33.34285273677437,-34.88684085624963,-36.39285853756685,-37.857199760251746,-39.27585924151593,-40.64452172075908,-41.958557551102224,-43.21302701641155,-44.40269618550331,-45.52206740285856,-46.565427593145145,-47.52691729409353,-48.40062258484754,-49.180690717033,-49.86146821829443,-50.43765757852395,-50.90448557879016,-51.257873314344295,-51.49459559462084,-51.61241632557125,-51.61018721321113,-51.48789986270391,-51.24668581294348,-50.88876451669119,-50.417344743585105,-49.836489341439055,-49.15095601689214,-48.36602752086135,-47.48734354048629,-46.52074422858411,-45.472132294517586,-44.34735753420153,-43.1521250226199,-41.89192615972705,-40.57199040479701,-39.197254789587106,-37.772348039419164,-36.30158620965518,-34.78897703236764,-33.23823056046536,-31.652774120158494,-30.035769990153728,-28.390134591019468,-26.71855827925577,-25.023525095868983,-23.307332022383992,-21.572107454706764,-19.819828724474704,-18.052338585767757,-16.271360648847217,-14.478513787562266,-12.675325577843259,-10.863244844997714,-9.043653410263337,-7.217877134502116,-5.387196360759978,-3.552855858939759,-1.7160743759914527,0.12194610549863613,1.9600112981576703,3.7969256285424158,5.631483242416068,7.4624588951249216,9.288598625038691,11.108610107157753,12.921152583020826,14.72482626236126,16.518161092035108,18.299604789364857,20.067510041151067,21.820120777639058,23.55555744445404,25.2718012173986,26.966677138088187,28.637836196701098,30.282736456504846,31.898623409284998,33.48250987819044,35.03115595247003,36.541049654678545,38.00838931166423,39.42906892917998,40.79866825322726,42.11244962535877,43.36536417396318,44.55207027600847,45.666967492365806,46.704249212030675,47.65797689724207,48.52217795386136,49.29096773441145,49.958693964559004,50.5200990535181,50.970492581193675,51.30592323385842,51.52333722709053,51.6207094738305,51.59713491492528,51.45287064014971,51.18932430782933,50.80899009029459,50.31533886116422,49.712673595736774,49.005963318938406,48.20066923669515,47.302575217010336,46.31763213530408,45.251822441321224,44.11104822914774,42.90104349614515,41.6273093522328,40.29506970888533,38.909244348334205,37.474436107280596,35.99492905792299,34.47469490301502,32.91740522122482,31.326447635328922,29.704944386078694,28.055772156359552,26.381582294829858,24.68482083564724,22.967747905998,21.232456263214633,19.480888815919954,17.71485506632639,15.936046470035556,14.146050750979663,12.346365236980319,10.538409299431825,8.723535991577547,6.903042985929426,5.078182914198446,3.250173213835268,1.4202055848681154,-0.4105448402468627,-2.2409105121147697,-4.069722564426755,-5.895801898198489,-7.717950149925487,-9.534940442934936,-11.345507820503267,-13.148339258472298,-14.94206315453184,-16.725238191561896,-18.49634147411991,-20.25375584137233,-21.99575626781445,-23.720495276792676,-25.425987313521595,-27.110092056971848,-28.77049669758822,-30.404697275077506,-32.00997926321954,-33.58339771356407,-35.12175743429212,-36.6215938918207,-38.0791557871349,-39.49039057935072,-40.850934602598876,-42.15610983548992,-43.40092980585967,-44.58011749600796,-45.68813837648578,-46.71925173097146,-47.66758310667734,-48.52721989017503,-49.29233054604046,-49.957305914782395,-50.51691822664189,-50.96649041090554,-51.302065328430324,-51.52056234424094,-51.61990783106017,-51.599127235216564,-51.45838936882148,-51.19899826988073,-50.823333510907375,-50.33474520964433,-49.73741422329394,-49.0361904297206,-48.236422421596785,-47.343790617504006,-46.364153282196376,-45.30341189939808,-44.167399331689644,-42.961791633543214,-41.692042455606135,-40.363337723298486,-38.98056761186032,-37.54831264042188,-36.070840826227915,-34.55211314971125,-32.99579498246822,-31.405271553828012,-29.78366593391613,-28.13385836831713,-26.45850610184598,-24.76006307582853,-23.040799078916898,-21.30281808255692,-19.548075606198903,-17.778395041421156,-15.99548292465633,-14.200943190743645,-12.396290468455543,-10.582962498107673,-8.762331763151604,-6.935716434426961,-5.1043907291477035,-3.2695947879787735,-1.4325441735382276,0.405560906888212,2.2435265523680097,4.080156191572979,5.914241576958579,7.744553648343139,9.569833163746058,11.388780994416011,13.200047980072538,15.002224239736702,16.793827833813626,18.57329267500395,20.338955590245362,22.089042444660244,23.821653253309155,25.534746229906332,27.22612075684488,28.89339931189444,30.534008458953345,32.14515910929478,33.723826392900655,35.26672965436532,36.770313312035945,38.23072959859208,39.64382453867166,41.005128909959716,42.30985636238348,43.552911302442084,44.728909529139884,45.832214848267306,46.85699487563025,47.79729882518883,48.647159117212944,49.40071701724383],\"line\":{\"color\":\"red\"},\"lon\":[324.493120015839,328.02574635185886,331.4923659964341,334.87850829698067,338.1722485014637,341.36433017431034,344.44812998570416,347.4194963432027,350.27649913290963,353.01912738331765,355.6489668683334,358.16888260905836,0.5827236624439968,2.8950606841119066,5.110961146519852,7.2358029661890075,9.275124547034471,11.234507639768829,13.119488667519978,14.935494009751505,16.687794951865946,18.381478430857126,20.021430222727112,21.61232774920172,23.15864018510285,24.664633999632446,26.13438245550335,27.571777918379478,28.98054609969788,30.364261575111566,31.726364095730624,33.07017534746622,34.398915921370005,35.715722340910986,37.0236640551679,38.325760354090946,39.62499719611691,40.92434396207885,42.22677016403947,43.53526214456144,44.85283980142547,46.182573365091656,47.527600240450354,48.89114189979514,50.276520778626285,51.68717707752109,53.126685308823376,54.598770342466196,56.107322595933454,57.65641187371517,59.2502991850296,60.89344564819056,62.590517318651564,64.34638444957051,66.16611330510035,68.05494819939109,70.01828093906394,72.06160432901429,74.19044590743333,76.41027768332115,78.72639747578323,81.14377766498257,83.66687797691316,86.29942059793808,89.04412872218424,91.90243379835427,94.87416233514372,97.95721993198947,101.14729757270217,104.43763195514096,107.81885600244661,111.27897569091229,114.80350313748983,118.375762662779,121.97736709042654,125.58883867729911,129.19032726803408,132.76236254057548,136.28657150596908,139.74629823783496,143.12707861452103,146.4169446923905,149.60655618169025,152.68917590145895,155.6605192497851,158.51851385188618,161.26300550701575,163.8954421505153,166.41856079806908,168.83609506904443,171.1525140877152,173.37279798191062,175.50225104902728,177.54635086431986,179.51062994233018,181.40058575700252,183.22161472019613,184.97896589509148,186.67771061512582,188.3227246736305,189.91868026721,191.47004537082842,192.98108866923477,194.4558885574534,195.89834505071548,197.31219371503312,198.70102094953833,200.06828012794566,201.4173082457605,202.75134282885358,204.07353894317606,205.3869862095834,206.69472577574314,207.99976723205071,209.30510548268083,210.61373759794546,211.9286796811489,213.25298378260302,214.58975488525752,215.9421679699561,217.31348514254032,218.70707276788445,220.12641850518827,221.57514807105957,223.0570414680345,224.57604830115892,226.13630165824384,227.74212984347253,229.39806502212122,231.1088475488827,232.87942440766216,234.71493978356406,236.62071532090283,238.60221710682924,240.66500588722658,242.81466652163996,245.0567123024849,247.39645962824895,249.83886881049457,252.38834774228852,255.04851703483413,257.82193831865294,260.70981192056723,263.7116561067041,266.8249872403086,270.04502777855237,273.36447568478854,276.7733726951169,280.2591078526455,283.8065850623598,287.39856850396484,291.01619878179815,294.63964898475075,298.24886823066635,301.8243458847187,305.3478261494578,308.8029110476624,312.17550777765155,315.45409954093265,318.62984202553616,321.69650645109823,324.6503020029515,327.4896152186889,330.21470262999753,332.8273676854032,335.3306457422009,337.7285133854935,340.0256316033185,342.2271269657325,344.33841105278304,346.3650358230856,348.31258115851796,350.18657017824125,351.99240782781055,353.73533850589246,355.42041893481894,357.0525030030034,358.6362358372118,0.17605485947795468,1.676196026298109,3.140703828712477,4.573443951134051,5.978117748980686,7.358277917022282,8.717344889204073,10.058623643618606,11.38532068987765,12.700561095681266,14.007405469844853,15.308866863936538,16.607927587138875,17.90755595105639,19.210722974672933,20.520419085355236,21.839670850223,23.171557763259536,24.51922909655636,25.88592079792918,27.274972379922772,28.689843694686015,30.134131421827377,31.61158500844735,33.126121686957994,34.681840051364496,36.28303148982931,37.9341885435174,39.640008981956974,41.40539404777731,43.23543892571272,45.13541303514525,47.11072724464924,49.16688458908152,51.30941058550452,53.543758876520855,55.875187802879246,58.30860379517869,60.848368401988544,63.498067602896995,66.26024505933172,69.13610534061037,72.12519896599395,75.22510805339088,78.43115873064022,81.73619296049347,85.13043626001352,88.60149693367518,92.13452518325138,95.71254616780436,99.31696087220912,102.92818561860057,106.52637987210149,110.09219760244237,113.6074935137974,117.05592298197209,120.42339157964621,123.69833239327775,126.87181191511169,129.93748386715575,132.89142239170954,135.73187112841748,138.4589438525744,141.07430745402579,143.5808710905726,145.98249800433345,148.28374984998558,150.48966802022474,152.60559252331632,154.63701636379474,156.58947186378398,158.46844466563613,160.27931102269753,162.02729420475774,163.7174362609685,165.35458188520468,166.94337164564598,168.48824232898048,169.99343258771006,171.46299245771002,172.90079563179415,174.31055363755934,175.69583128051465,177.0600628835362,178.40656898795584,179.73857328636626,181.05921963798755,182.3715890789851,183.6787167858548,184.9836089832138,186.2892598099773,187.59866817171542,188.91485461275795,190.24087823997897,191.579853720707,192.93496835947505,194.30949923086823,195.70683030670767,197.1304694626157,198.58406517829164,200.07142265323705,201.59651894012427,203.16351654543817,204.77677475448098,206.44085769816857,208.16053788487636,209.94079356653165,211.78679789135168,213.7038973202965,215.6975762648429,217.77340437175744,219.93696239238855,222.19374222086734,224.5490166027049,227.0076743904167,229.57401829577813,232.25152413657992,235.04256387417482,237.94809948258708,240.96736087982168,244.09752843846718,247.33344812788684],\"mode\":\"lines\",\"name\":\"ISS\",\"type\":\"scattergeo\"},{\"lat\":[51.42953428309302],\"lon\":[285.59816127653147],\"marker\":{\"color\":\"red\",\"line\":{\"color\":\"black\",\"width\":1},\"size\":10,\"symbol\":\"triangle-right\"},\"name\":\"ISS\",\"showlegend\":false,\"type\":\"scattergeo\"},{\"lat\":[40.416729],\"lon\":[-3.703339],\"marker\":{\"color\":\"blue\"},\"name\":\"Madrid\",\"type\":\"scattergeo\"}],                        {\"template\":{\"data\":{\"histogram2dcontour\":[{\"type\":\"histogram2dcontour\",\"colorbar\":{\"outlinewidth\":0,\"ticks\":\"\"},\"colorscale\":[[0.0,\"#0d0887\"],[0.1111111111111111,\"#46039f\"],[0.2222222222222222,\"#7201a8\"],[0.3333333333333333,\"#9c179e\"],[0.4444444444444444,\"#bd3786\"],[0.5555555555555556,\"#d8576b\"],[0.6666666666666666,\"#ed7953\"],[0.7777777777777778,\"#fb9f3a\"],[0.8888888888888888,\"#fdca26\"],[1.0,\"#f0f921\"]]}],\"choropleth\":[{\"type\":\"choropleth\",\"colorbar\":{\"outlinewidth\":0,\"ticks\":\"\"}}],\"histogram2d\":[{\"type\":\"histogram2d\",\"colorbar\":{\"outlinewidth\":0,\"ticks\":\"\"},\"colorscale\":[[0.0,\"#0d0887\"],[0.1111111111111111,\"#46039f\"],[0.2222222222222222,\"#7201a8\"],[0.3333333333333333,\"#9c179e\"],[0.4444444444444444,\"#bd3786\"],[0.5555555555555556,\"#d8576b\"],[0.6666666666666666,\"#ed7953\"],[0.7777777777777778,\"#fb9f3a\"],[0.8888888888888888,\"#fdca26\"],[1.0,\"#f0f921\"]]}],\"heatmap\":[{\"type\":\"heatmap\",\"colorbar\":{\"outlinewidth\":0,\"ticks\":\"\"},\"colorscale\":[[0.0,\"#0d0887\"],[0.1111111111111111,\"#46039f\"],[0.2222222222222222,\"#7201a8\"],[0.3333333333333333,\"#9c179e\"],[0.4444444444444444,\"#bd3786\"],[0.5555555555555556,\"#d8576b\"],[0.6666666666666666,\"#ed7953\"],[0.7777777777777778,\"#fb9f3a\"],[0.8888888888888888,\"#fdca26\"],[1.0,\"#f0f921\"]]}],\"heatmapgl\":[{\"type\":\"heatmapgl\",\"colorbar\":{\"outlinewidth\":0,\"ticks\":\"\"},\"colorscale\":[[0.0,\"#0d0887\"],[0.1111111111111111,\"#46039f\"],[0.2222222222222222,\"#7201a8\"],[0.3333333333333333,\"#9c179e\"],[0.4444444444444444,\"#bd3786\"],[0.5555555555555556,\"#d8576b\"],[0.6666666666666666,\"#ed7953\"],[0.7777777777777778,\"#fb9f3a\"],[0.8888888888888888,\"#fdca26\"],[1.0,\"#f0f921\"]]}],\"contourcarpet\":[{\"type\":\"contourcarpet\",\"colorbar\":{\"outlinewidth\":0,\"ticks\":\"\"}}],\"contour\":[{\"type\":\"contour\",\"colorbar\":{\"outlinewidth\":0,\"ticks\":\"\"},\"colorscale\":[[0.0,\"#0d0887\"],[0.1111111111111111,\"#46039f\"],[0.2222222222222222,\"#7201a8\"],[0.3333333333333333,\"#9c179e\"],[0.4444444444444444,\"#bd3786\"],[0.5555555555555556,\"#d8576b\"],[0.6666666666666666,\"#ed7953\"],[0.7777777777777778,\"#fb9f3a\"],[0.8888888888888888,\"#fdca26\"],[1.0,\"#f0f921\"]]}],\"surface\":[{\"type\":\"surface\",\"colorbar\":{\"outlinewidth\":0,\"ticks\":\"\"},\"colorscale\":[[0.0,\"#0d0887\"],[0.1111111111111111,\"#46039f\"],[0.2222222222222222,\"#7201a8\"],[0.3333333333333333,\"#9c179e\"],[0.4444444444444444,\"#bd3786\"],[0.5555555555555556,\"#d8576b\"],[0.6666666666666666,\"#ed7953\"],[0.7777777777777778,\"#fb9f3a\"],[0.8888888888888888,\"#fdca26\"],[1.0,\"#f0f921\"]]}],\"mesh3d\":[{\"type\":\"mesh3d\",\"colorbar\":{\"outlinewidth\":0,\"ticks\":\"\"}}],\"scatter\":[{\"fillpattern\":{\"fillmode\":\"overlay\",\"size\":10,\"solidity\":0.2},\"type\":\"scatter\"}],\"parcoords\":[{\"type\":\"parcoords\",\"line\":{\"colorbar\":{\"outlinewidth\":0,\"ticks\":\"\"}}}],\"scatterpolargl\":[{\"type\":\"scatterpolargl\",\"marker\":{\"colorbar\":{\"outlinewidth\":0,\"ticks\":\"\"}}}],\"bar\":[{\"error_x\":{\"color\":\"#2a3f5f\"},\"error_y\":{\"color\":\"#2a3f5f\"},\"marker\":{\"line\":{\"color\":\"#E5ECF6\",\"width\":0.5},\"pattern\":{\"fillmode\":\"overlay\",\"size\":10,\"solidity\":0.2}},\"type\":\"bar\"}],\"scattergeo\":[{\"type\":\"scattergeo\",\"marker\":{\"colorbar\":{\"outlinewidth\":0,\"ticks\":\"\"}}}],\"scatterpolar\":[{\"type\":\"scatterpolar\",\"marker\":{\"colorbar\":{\"outlinewidth\":0,\"ticks\":\"\"}}}],\"histogram\":[{\"marker\":{\"pattern\":{\"fillmode\":\"overlay\",\"size\":10,\"solidity\":0.2}},\"type\":\"histogram\"}],\"scattergl\":[{\"type\":\"scattergl\",\"marker\":{\"colorbar\":{\"outlinewidth\":0,\"ticks\":\"\"}}}],\"scatter3d\":[{\"type\":\"scatter3d\",\"line\":{\"colorbar\":{\"outlinewidth\":0,\"ticks\":\"\"}},\"marker\":{\"colorbar\":{\"outlinewidth\":0,\"ticks\":\"\"}}}],\"scattermapbox\":[{\"type\":\"scattermapbox\",\"marker\":{\"colorbar\":{\"outlinewidth\":0,\"ticks\":\"\"}}}],\"scatterternary\":[{\"type\":\"scatterternary\",\"marker\":{\"colorbar\":{\"outlinewidth\":0,\"ticks\":\"\"}}}],\"scattercarpet\":[{\"type\":\"scattercarpet\",\"marker\":{\"colorbar\":{\"outlinewidth\":0,\"ticks\":\"\"}}}],\"carpet\":[{\"aaxis\":{\"endlinecolor\":\"#2a3f5f\",\"gridcolor\":\"white\",\"linecolor\":\"white\",\"minorgridcolor\":\"white\",\"startlinecolor\":\"#2a3f5f\"},\"baxis\":{\"endlinecolor\":\"#2a3f5f\",\"gridcolor\":\"white\",\"linecolor\":\"white\",\"minorgridcolor\":\"white\",\"startlinecolor\":\"#2a3f5f\"},\"type\":\"carpet\"}],\"table\":[{\"cells\":{\"fill\":{\"color\":\"#EBF0F8\"},\"line\":{\"color\":\"white\"}},\"header\":{\"fill\":{\"color\":\"#C8D4E3\"},\"line\":{\"color\":\"white\"}},\"type\":\"table\"}],\"barpolar\":[{\"marker\":{\"line\":{\"color\":\"#E5ECF6\",\"width\":0.5},\"pattern\":{\"fillmode\":\"overlay\",\"size\":10,\"solidity\":0.2}},\"type\":\"barpolar\"}],\"pie\":[{\"automargin\":true,\"type\":\"pie\"}]},\"layout\":{\"autotypenumbers\":\"strict\",\"colorway\":[\"#636efa\",\"#EF553B\",\"#00cc96\",\"#ab63fa\",\"#FFA15A\",\"#19d3f3\",\"#FF6692\",\"#B6E880\",\"#FF97FF\",\"#FECB52\"],\"font\":{\"color\":\"#2a3f5f\"},\"hovermode\":\"closest\",\"hoverlabel\":{\"align\":\"left\"},\"paper_bgcolor\":\"white\",\"plot_bgcolor\":\"#E5ECF6\",\"polar\":{\"bgcolor\":\"#E5ECF6\",\"angularaxis\":{\"gridcolor\":\"white\",\"linecolor\":\"white\",\"ticks\":\"\"},\"radialaxis\":{\"gridcolor\":\"white\",\"linecolor\":\"white\",\"ticks\":\"\"}},\"ternary\":{\"bgcolor\":\"#E5ECF6\",\"aaxis\":{\"gridcolor\":\"white\",\"linecolor\":\"white\",\"ticks\":\"\"},\"baxis\":{\"gridcolor\":\"white\",\"linecolor\":\"white\",\"ticks\":\"\"},\"caxis\":{\"gridcolor\":\"white\",\"linecolor\":\"white\",\"ticks\":\"\"}},\"coloraxis\":{\"colorbar\":{\"outlinewidth\":0,\"ticks\":\"\"}},\"colorscale\":{\"sequential\":[[0.0,\"#0d0887\"],[0.1111111111111111,\"#46039f\"],[0.2222222222222222,\"#7201a8\"],[0.3333333333333333,\"#9c179e\"],[0.4444444444444444,\"#bd3786\"],[0.5555555555555556,\"#d8576b\"],[0.6666666666666666,\"#ed7953\"],[0.7777777777777778,\"#fb9f3a\"],[0.8888888888888888,\"#fdca26\"],[1.0,\"#f0f921\"]],\"sequentialminus\":[[0.0,\"#0d0887\"],[0.1111111111111111,\"#46039f\"],[0.2222222222222222,\"#7201a8\"],[0.3333333333333333,\"#9c179e\"],[0.4444444444444444,\"#bd3786\"],[0.5555555555555556,\"#d8576b\"],[0.6666666666666666,\"#ed7953\"],[0.7777777777777778,\"#fb9f3a\"],[0.8888888888888888,\"#fdca26\"],[1.0,\"#f0f921\"]],\"diverging\":[[0,\"#8e0152\"],[0.1,\"#c51b7d\"],[0.2,\"#de77ae\"],[0.3,\"#f1b6da\"],[0.4,\"#fde0ef\"],[0.5,\"#f7f7f7\"],[0.6,\"#e6f5d0\"],[0.7,\"#b8e186\"],[0.8,\"#7fbc41\"],[0.9,\"#4d9221\"],[1,\"#276419\"]]},\"xaxis\":{\"gridcolor\":\"white\",\"linecolor\":\"white\",\"ticks\":\"\",\"title\":{\"standoff\":15},\"zerolinecolor\":\"white\",\"automargin\":true,\"zerolinewidth\":2},\"yaxis\":{\"gridcolor\":\"white\",\"linecolor\":\"white\",\"ticks\":\"\",\"title\":{\"standoff\":15},\"zerolinecolor\":\"white\",\"automargin\":true,\"zerolinewidth\":2},\"scene\":{\"xaxis\":{\"backgroundcolor\":\"#E5ECF6\",\"gridcolor\":\"white\",\"linecolor\":\"white\",\"showbackground\":true,\"ticks\":\"\",\"zerolinecolor\":\"white\",\"gridwidth\":2},\"yaxis\":{\"backgroundcolor\":\"#E5ECF6\",\"gridcolor\":\"white\",\"linecolor\":\"white\",\"showbackground\":true,\"ticks\":\"\",\"zerolinecolor\":\"white\",\"gridwidth\":2},\"zaxis\":{\"backgroundcolor\":\"#E5ECF6\",\"gridcolor\":\"white\",\"linecolor\":\"white\",\"showbackground\":true,\"ticks\":\"\",\"zerolinecolor\":\"white\",\"gridwidth\":2}},\"shapedefaults\":{\"line\":{\"color\":\"#2a3f5f\"}},\"annotationdefaults\":{\"arrowcolor\":\"#2a3f5f\",\"arrowhead\":0,\"arrowwidth\":1},\"geo\":{\"bgcolor\":\"white\",\"landcolor\":\"#E5ECF6\",\"subunitcolor\":\"white\",\"showland\":true,\"showlakes\":true,\"lakecolor\":\"white\"},\"title\":{\"x\":0.05},\"mapbox\":{\"style\":\"light\"}}},\"geo\":{\"lataxis\":{\"showgrid\":true,\"gridcolor\":\"black\"},\"lonaxis\":{\"showgrid\":true,\"gridcolor\":\"black\"},\"showcoastlines\":true,\"coastlinecolor\":\"Black\",\"showland\":true,\"landcolor\":\"#9fc164\",\"showocean\":true,\"oceancolor\":\"#b2d9ff\",\"showlakes\":false,\"showrivers\":false,\"projection\":{\"type\":\"orthographic\"}},\"title\":{\"text\":\"International Space Station groundtrack\"}},                        {\"responsive\": true}                    ).then(function(){\n",
       "                            \n",
       "var gd = document.getElementById('b7223ac3-06fa-439d-81c9-dc3214f90207');\n",
       "var x = new MutationObserver(function (mutations, observer) {{\n",
       "        var display = window.getComputedStyle(gd).display;\n",
       "        if (!display || display === 'none') {{\n",
       "            console.log([gd, 'removed!']);\n",
       "            Plotly.purge(gd);\n",
       "            observer.disconnect();\n",
       "        }}\n",
       "}});\n",
       "\n",
       "// Listen for the removal of the full notebook cells\n",
       "var notebookContainer = gd.closest('#notebook-container');\n",
       "if (notebookContainer) {{\n",
       "    x.observe(notebookContainer, {childList: true});\n",
       "}}\n",
       "\n",
       "// Listen for the clearing of the current output cell\n",
       "var outputEl = gd.closest('.output');\n",
       "if (outputEl) {{\n",
       "    x.observe(outputEl, {childList: true});\n",
       "}}\n",
       "\n",
       "                        })                };                });            </script>        </div>"
      ]
     },
     "metadata": {},
     "output_type": "display_data"
    }
   ],
   "source": [
    "# Switch to three dimensional representation\n",
    "gp.update_geos(projection_type=\"orthographic\")\n",
    "gp.fig.show()\n"
   ]
  },
  {
   "cell_type": "code",
   "execution_count": 14,
   "id": "4332b365-c00d-4ff2-b5b3-53346294ee25",
   "metadata": {
    "tags": []
   },
   "outputs": [
    {
     "data": {
      "text/plain": [
       "<poliastro.earth.plotting.groundtrack.GroundtrackPlotter at 0x240d9615210>"
      ]
     },
     "execution_count": 14,
     "metadata": {},
     "output_type": "execute_result"
    }
   ],
   "source": [
    "gp"
   ]
  },
  {
   "cell_type": "code",
   "execution_count": null,
   "id": "f111d343-2fd8-412c-8592-09eafae13c10",
   "metadata": {},
   "outputs": [],
   "source": []
  }
 ],
 "metadata": {
  "kernelspec": {
   "display_name": "Python 3 (ipykernel)",
   "language": "python",
   "name": "python3"
  },
  "language_info": {
   "codemirror_mode": {
    "name": "ipython",
    "version": 3
   },
   "file_extension": ".py",
   "mimetype": "text/x-python",
   "name": "python",
   "nbconvert_exporter": "python",
   "pygments_lexer": "ipython3",
   "version": "3.10.13"
  }
 },
 "nbformat": 4,
 "nbformat_minor": 5
}
